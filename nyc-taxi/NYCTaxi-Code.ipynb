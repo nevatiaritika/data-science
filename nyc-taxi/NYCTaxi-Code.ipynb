{
 "cells": [
  {
   "cell_type": "markdown",
   "metadata": {},
   "source": [
    "### NYC Taxi Fare Prediction Challenge\n",
    "#### CSE 519 : Data Science Fundamentals\n",
    "Ritika Nevatia (112007313)\n",
    "\n",
    "ritika.nevatia@stonybrook.edu"
   ]
  },
  {
   "cell_type": "markdown",
   "metadata": {},
   "source": [
    "# Step 1: Reading the dataset\n",
    "\n",
    "Reading the dataset and understanding what each field represents."
   ]
  },
  {
   "cell_type": "code",
   "execution_count": 1,
   "metadata": {},
   "outputs": [],
   "source": [
    "import pandas as pd\n",
    "df = pd.read_csv('/Users/Shared/Work/dsf/hw2/train.csv')"
   ]
  },
  {
   "cell_type": "code",
   "execution_count": 2,
   "metadata": {},
   "outputs": [
    {
     "data": {
      "text/plain": [
       "(55423856, 8)"
      ]
     },
     "execution_count": 2,
     "metadata": {},
     "output_type": "execute_result"
    }
   ],
   "source": [
    "df.shape"
   ]
  },
  {
   "cell_type": "code",
   "execution_count": 3,
   "metadata": {},
   "outputs": [
    {
     "name": "stdout",
     "output_type": "stream",
     "text": [
      "<class 'pandas.core.frame.DataFrame'>\n",
      "RangeIndex: 55423856 entries, 0 to 55423855\n",
      "Data columns (total 8 columns):\n",
      "key                  object\n",
      "fare_amount          float64\n",
      "pickup_datetime      object\n",
      "pickup_longitude     float64\n",
      "pickup_latitude      float64\n",
      "dropoff_longitude    float64\n",
      "dropoff_latitude     float64\n",
      "passenger_count      int64\n",
      "dtypes: float64(5), int64(1), object(2)\n",
      "memory usage: 3.3+ GB\n",
      "None\n"
     ]
    }
   ],
   "source": [
    "print(df.info())"
   ]
  },
  {
   "cell_type": "code",
   "execution_count": 4,
   "metadata": {
    "scrolled": true
   },
   "outputs": [
    {
     "data": {
      "text/html": [
       "<div>\n",
       "<style scoped>\n",
       "    .dataframe tbody tr th:only-of-type {\n",
       "        vertical-align: middle;\n",
       "    }\n",
       "\n",
       "    .dataframe tbody tr th {\n",
       "        vertical-align: top;\n",
       "    }\n",
       "\n",
       "    .dataframe thead th {\n",
       "        text-align: right;\n",
       "    }\n",
       "</style>\n",
       "<table border=\"1\" class=\"dataframe\">\n",
       "  <thead>\n",
       "    <tr style=\"text-align: right;\">\n",
       "      <th></th>\n",
       "      <th>fare_amount</th>\n",
       "      <th>pickup_longitude</th>\n",
       "      <th>pickup_latitude</th>\n",
       "      <th>dropoff_longitude</th>\n",
       "      <th>dropoff_latitude</th>\n",
       "      <th>passenger_count</th>\n",
       "    </tr>\n",
       "  </thead>\n",
       "  <tbody>\n",
       "    <tr>\n",
       "      <th>count</th>\n",
       "      <td>5.542386e+07</td>\n",
       "      <td>5.542386e+07</td>\n",
       "      <td>5.542386e+07</td>\n",
       "      <td>5.542348e+07</td>\n",
       "      <td>5.542348e+07</td>\n",
       "      <td>5.542386e+07</td>\n",
       "    </tr>\n",
       "    <tr>\n",
       "      <th>mean</th>\n",
       "      <td>1.134505e+01</td>\n",
       "      <td>-7.250968e+01</td>\n",
       "      <td>3.991979e+01</td>\n",
       "      <td>-7.251121e+01</td>\n",
       "      <td>3.992068e+01</td>\n",
       "      <td>1.685380e+00</td>\n",
       "    </tr>\n",
       "    <tr>\n",
       "      <th>std</th>\n",
       "      <td>2.071083e+01</td>\n",
       "      <td>1.284888e+01</td>\n",
       "      <td>9.642353e+00</td>\n",
       "      <td>1.278220e+01</td>\n",
       "      <td>9.633346e+00</td>\n",
       "      <td>1.327664e+00</td>\n",
       "    </tr>\n",
       "    <tr>\n",
       "      <th>min</th>\n",
       "      <td>-3.000000e+02</td>\n",
       "      <td>-3.442060e+03</td>\n",
       "      <td>-3.492264e+03</td>\n",
       "      <td>-3.442025e+03</td>\n",
       "      <td>-3.547887e+03</td>\n",
       "      <td>0.000000e+00</td>\n",
       "    </tr>\n",
       "    <tr>\n",
       "      <th>25%</th>\n",
       "      <td>6.000000e+00</td>\n",
       "      <td>-7.399207e+01</td>\n",
       "      <td>4.073493e+01</td>\n",
       "      <td>-7.399140e+01</td>\n",
       "      <td>4.073403e+01</td>\n",
       "      <td>1.000000e+00</td>\n",
       "    </tr>\n",
       "    <tr>\n",
       "      <th>50%</th>\n",
       "      <td>8.500000e+00</td>\n",
       "      <td>-7.398180e+01</td>\n",
       "      <td>4.075265e+01</td>\n",
       "      <td>-7.398015e+01</td>\n",
       "      <td>4.075316e+01</td>\n",
       "      <td>1.000000e+00</td>\n",
       "    </tr>\n",
       "    <tr>\n",
       "      <th>75%</th>\n",
       "      <td>1.250000e+01</td>\n",
       "      <td>-7.396708e+01</td>\n",
       "      <td>4.076713e+01</td>\n",
       "      <td>-7.396367e+01</td>\n",
       "      <td>4.076810e+01</td>\n",
       "      <td>2.000000e+00</td>\n",
       "    </tr>\n",
       "    <tr>\n",
       "      <th>max</th>\n",
       "      <td>9.396336e+04</td>\n",
       "      <td>3.457626e+03</td>\n",
       "      <td>3.408790e+03</td>\n",
       "      <td>3.457622e+03</td>\n",
       "      <td>3.537133e+03</td>\n",
       "      <td>2.080000e+02</td>\n",
       "    </tr>\n",
       "  </tbody>\n",
       "</table>\n",
       "</div>"
      ],
      "text/plain": [
       "        fare_amount  pickup_longitude  pickup_latitude  dropoff_longitude  \\\n",
       "count  5.542386e+07      5.542386e+07     5.542386e+07       5.542348e+07   \n",
       "mean   1.134505e+01     -7.250968e+01     3.991979e+01      -7.251121e+01   \n",
       "std    2.071083e+01      1.284888e+01     9.642353e+00       1.278220e+01   \n",
       "min   -3.000000e+02     -3.442060e+03    -3.492264e+03      -3.442025e+03   \n",
       "25%    6.000000e+00     -7.399207e+01     4.073493e+01      -7.399140e+01   \n",
       "50%    8.500000e+00     -7.398180e+01     4.075265e+01      -7.398015e+01   \n",
       "75%    1.250000e+01     -7.396708e+01     4.076713e+01      -7.396367e+01   \n",
       "max    9.396336e+04      3.457626e+03     3.408790e+03       3.457622e+03   \n",
       "\n",
       "       dropoff_latitude  passenger_count  \n",
       "count      5.542348e+07     5.542386e+07  \n",
       "mean       3.992068e+01     1.685380e+00  \n",
       "std        9.633346e+00     1.327664e+00  \n",
       "min       -3.547887e+03     0.000000e+00  \n",
       "25%        4.073403e+01     1.000000e+00  \n",
       "50%        4.075316e+01     1.000000e+00  \n",
       "75%        4.076810e+01     2.000000e+00  \n",
       "max        3.537133e+03     2.080000e+02  "
      ]
     },
     "execution_count": 4,
     "metadata": {},
     "output_type": "execute_result"
    }
   ],
   "source": [
    "df.describe()"
   ]
  },
  {
   "cell_type": "markdown",
   "metadata": {},
   "source": [
    "# Step 2: Cleaning dataset"
   ]
  },
  {
   "cell_type": "markdown",
   "metadata": {},
   "source": [
    "#### Conclusion\n",
    "\n",
    "The training data has about 55 million rows.\n",
    "\n",
    "Most of the columns are float/integer type except the key and pickup datetime.\n",
    "\n",
    "There are some very obvious extremes in the data when we look at the mean/min/max values of the numerical columns, as follows:\n",
    "* Minimum fare_amount is negative\n",
    "* Maximum fare_amount is absurd - USD 93963\n",
    "* Latitudes and longitudes have a very long range of values even for a big city like NYC\n",
    "* Minimum passenger_count is 0\n",
    "* Maximum passenger_count is 208"
   ]
  },
  {
   "cell_type": "markdown",
   "metadata": {},
   "source": [
    "## Step 2.1: Clean Fare Amount\n",
    "\n",
    "Let's study the fare amount frequency"
   ]
  },
  {
   "cell_type": "code",
   "execution_count": 5,
   "metadata": {},
   "outputs": [
    {
     "name": "stderr",
     "output_type": "stream",
     "text": [
      "/anaconda3/lib/python3.6/site-packages/matplotlib/axes/_axes.py:6462: UserWarning: The 'normed' kwarg is deprecated, and has been replaced by the 'density' kwarg.\n",
      "  warnings.warn(\"The 'normed' kwarg is deprecated, and has been \"\n"
     ]
    },
    {
     "data": {
      "text/plain": [
       "<matplotlib.axes._subplots.AxesSubplot at 0x112793748>"
      ]
     },
     "execution_count": 5,
     "metadata": {},
     "output_type": "execute_result"
    }
   ],
   "source": [
    "import seaborn as sns\n",
    "sns.distplot(df['fare_amount'])"
   ]
  },
  {
   "cell_type": "markdown",
   "metadata": {},
   "source": [
    "#### Conclusion\n",
    "We realize that some fares are absurd, i.e. less than USD 3 (base fare for NYC cabs) and more than USD 500.\n",
    "We'll clean this."
   ]
  },
  {
   "cell_type": "code",
   "execution_count": 6,
   "metadata": {},
   "outputs": [],
   "source": [
    "df = df[df.fare_amount>=3.0]\n",
    "df = df[df.fare_amount<=500]"
   ]
  },
  {
   "cell_type": "markdown",
   "metadata": {},
   "source": [
    "## Step 2.2: Clean Passenger Count\n",
    "\n",
    "Minimum value of passenger counts as seen above is 0 - this doesn't make sense. Perhaps the taxi was dropping parcels but it's best to not risk data contamination for there are chances that this data was recorded in error.\n",
    "Similarly, the maximum value of a NYC taxi is 6 passengers.\n",
    "\n",
    "So we'll apply these restrictions and drop rows which have passengers less than 1 or more than 6."
   ]
  },
  {
   "cell_type": "code",
   "execution_count": 7,
   "metadata": {},
   "outputs": [
    {
     "data": {
      "text/plain": [
       "1      38056631\n",
       "2       8141219\n",
       "5       3904012\n",
       "3       2423042\n",
       "4       1173803\n",
       "6       1169847\n",
       "0        192396\n",
       "208          46\n",
       "9            22\n",
       "7            14\n",
       "8             8\n",
       "129           2\n",
       "51            1\n",
       "34            1\n",
       "Name: passenger_count, dtype: int64"
      ]
     },
     "execution_count": 7,
     "metadata": {},
     "output_type": "execute_result"
    }
   ],
   "source": [
    "df.passenger_count.value_counts(dropna=False)"
   ]
  },
  {
   "cell_type": "code",
   "execution_count": 8,
   "metadata": {},
   "outputs": [],
   "source": [
    "df = df[df.passenger_count>0]\n",
    "df = df[df.passenger_count<7]"
   ]
  },
  {
   "cell_type": "markdown",
   "metadata": {},
   "source": [
    "## Step 2.3: Clean duplicate data\n",
    "\n",
    "To avoid any bias, we remove all duplicate data."
   ]
  },
  {
   "cell_type": "code",
   "execution_count": 9,
   "metadata": {},
   "outputs": [
    {
     "data": {
      "text/html": [
       "<div>\n",
       "<style scoped>\n",
       "    .dataframe tbody tr th:only-of-type {\n",
       "        vertical-align: middle;\n",
       "    }\n",
       "\n",
       "    .dataframe tbody tr th {\n",
       "        vertical-align: top;\n",
       "    }\n",
       "\n",
       "    .dataframe thead th {\n",
       "        text-align: right;\n",
       "    }\n",
       "</style>\n",
       "<table border=\"1\" class=\"dataframe\">\n",
       "  <thead>\n",
       "    <tr style=\"text-align: right;\">\n",
       "      <th></th>\n",
       "      <th>fare_amount</th>\n",
       "      <th>pickup_longitude</th>\n",
       "      <th>pickup_latitude</th>\n",
       "      <th>dropoff_longitude</th>\n",
       "      <th>dropoff_latitude</th>\n",
       "      <th>passenger_count</th>\n",
       "    </tr>\n",
       "  </thead>\n",
       "  <tbody>\n",
       "    <tr>\n",
       "      <th>count</th>\n",
       "      <td>5.486855e+07</td>\n",
       "      <td>5.486855e+07</td>\n",
       "      <td>5.486855e+07</td>\n",
       "      <td>5.486855e+07</td>\n",
       "      <td>5.486855e+07</td>\n",
       "      <td>5.486855e+07</td>\n",
       "    </tr>\n",
       "    <tr>\n",
       "      <th>mean</th>\n",
       "      <td>1.140599e+01</td>\n",
       "      <td>-7.252981e+01</td>\n",
       "      <td>3.993070e+01</td>\n",
       "      <td>-7.254059e+01</td>\n",
       "      <td>3.993675e+01</td>\n",
       "      <td>1.692090e+00</td>\n",
       "    </tr>\n",
       "    <tr>\n",
       "      <th>std</th>\n",
       "      <td>9.791473e+00</td>\n",
       "      <td>1.279479e+01</td>\n",
       "      <td>9.632379e+00</td>\n",
       "      <td>1.270911e+01</td>\n",
       "      <td>9.596615e+00</td>\n",
       "      <td>1.307679e+00</td>\n",
       "    </tr>\n",
       "    <tr>\n",
       "      <th>min</th>\n",
       "      <td>3.000000e+00</td>\n",
       "      <td>-3.442060e+03</td>\n",
       "      <td>-3.492264e+03</td>\n",
       "      <td>-3.442025e+03</td>\n",
       "      <td>-3.547887e+03</td>\n",
       "      <td>1.000000e+00</td>\n",
       "    </tr>\n",
       "    <tr>\n",
       "      <th>25%</th>\n",
       "      <td>6.000000e+00</td>\n",
       "      <td>-7.399208e+01</td>\n",
       "      <td>4.073496e+01</td>\n",
       "      <td>-7.399141e+01</td>\n",
       "      <td>4.073407e+01</td>\n",
       "      <td>1.000000e+00</td>\n",
       "    </tr>\n",
       "    <tr>\n",
       "      <th>50%</th>\n",
       "      <td>8.500000e+00</td>\n",
       "      <td>-7.398182e+01</td>\n",
       "      <td>4.075267e+01</td>\n",
       "      <td>-7.398017e+01</td>\n",
       "      <td>4.075318e+01</td>\n",
       "      <td>1.000000e+00</td>\n",
       "    </tr>\n",
       "    <tr>\n",
       "      <th>75%</th>\n",
       "      <td>1.250000e+01</td>\n",
       "      <td>-7.396716e+01</td>\n",
       "      <td>4.076714e+01</td>\n",
       "      <td>-7.396376e+01</td>\n",
       "      <td>4.076811e+01</td>\n",
       "      <td>2.000000e+00</td>\n",
       "    </tr>\n",
       "    <tr>\n",
       "      <th>max</th>\n",
       "      <td>5.000000e+02</td>\n",
       "      <td>3.457626e+03</td>\n",
       "      <td>3.408790e+03</td>\n",
       "      <td>3.457622e+03</td>\n",
       "      <td>3.537133e+03</td>\n",
       "      <td>6.000000e+00</td>\n",
       "    </tr>\n",
       "  </tbody>\n",
       "</table>\n",
       "</div>"
      ],
      "text/plain": [
       "        fare_amount  pickup_longitude  pickup_latitude  dropoff_longitude  \\\n",
       "count  5.486855e+07      5.486855e+07     5.486855e+07       5.486855e+07   \n",
       "mean   1.140599e+01     -7.252981e+01     3.993070e+01      -7.254059e+01   \n",
       "std    9.791473e+00      1.279479e+01     9.632379e+00       1.270911e+01   \n",
       "min    3.000000e+00     -3.442060e+03    -3.492264e+03      -3.442025e+03   \n",
       "25%    6.000000e+00     -7.399208e+01     4.073496e+01      -7.399141e+01   \n",
       "50%    8.500000e+00     -7.398182e+01     4.075267e+01      -7.398017e+01   \n",
       "75%    1.250000e+01     -7.396716e+01     4.076714e+01      -7.396376e+01   \n",
       "max    5.000000e+02      3.457626e+03     3.408790e+03       3.457622e+03   \n",
       "\n",
       "       dropoff_latitude  passenger_count  \n",
       "count      5.486855e+07     5.486855e+07  \n",
       "mean       3.993675e+01     1.692090e+00  \n",
       "std        9.596615e+00     1.307679e+00  \n",
       "min       -3.547887e+03     1.000000e+00  \n",
       "25%        4.073407e+01     1.000000e+00  \n",
       "50%        4.075318e+01     1.000000e+00  \n",
       "75%        4.076811e+01     2.000000e+00  \n",
       "max        3.537133e+03     6.000000e+00  "
      ]
     },
     "execution_count": 9,
     "metadata": {},
     "output_type": "execute_result"
    }
   ],
   "source": [
    "df.drop_duplicates()\n",
    "df.describe()"
   ]
  },
  {
   "cell_type": "markdown",
   "metadata": {},
   "source": [
    "## Step 2.4: Clean Null Values\n",
    "\n",
    "Some rows have null values, these need to be gotten rid of."
   ]
  },
  {
   "cell_type": "code",
   "execution_count": 10,
   "metadata": {},
   "outputs": [
    {
     "data": {
      "text/html": [
       "<div>\n",
       "<style scoped>\n",
       "    .dataframe tbody tr th:only-of-type {\n",
       "        vertical-align: middle;\n",
       "    }\n",
       "\n",
       "    .dataframe tbody tr th {\n",
       "        vertical-align: top;\n",
       "    }\n",
       "\n",
       "    .dataframe thead th {\n",
       "        text-align: right;\n",
       "    }\n",
       "</style>\n",
       "<table border=\"1\" class=\"dataframe\">\n",
       "  <thead>\n",
       "    <tr style=\"text-align: right;\">\n",
       "      <th></th>\n",
       "      <th>fare_amount</th>\n",
       "      <th>pickup_longitude</th>\n",
       "      <th>pickup_latitude</th>\n",
       "      <th>dropoff_longitude</th>\n",
       "      <th>dropoff_latitude</th>\n",
       "      <th>passenger_count</th>\n",
       "    </tr>\n",
       "  </thead>\n",
       "  <tbody>\n",
       "    <tr>\n",
       "      <th>count</th>\n",
       "      <td>5.486855e+07</td>\n",
       "      <td>5.486855e+07</td>\n",
       "      <td>5.486855e+07</td>\n",
       "      <td>5.486855e+07</td>\n",
       "      <td>5.486855e+07</td>\n",
       "      <td>5.486855e+07</td>\n",
       "    </tr>\n",
       "    <tr>\n",
       "      <th>mean</th>\n",
       "      <td>1.140599e+01</td>\n",
       "      <td>-7.252981e+01</td>\n",
       "      <td>3.993070e+01</td>\n",
       "      <td>-7.254059e+01</td>\n",
       "      <td>3.993675e+01</td>\n",
       "      <td>1.692090e+00</td>\n",
       "    </tr>\n",
       "    <tr>\n",
       "      <th>std</th>\n",
       "      <td>9.791473e+00</td>\n",
       "      <td>1.279479e+01</td>\n",
       "      <td>9.632379e+00</td>\n",
       "      <td>1.270911e+01</td>\n",
       "      <td>9.596615e+00</td>\n",
       "      <td>1.307679e+00</td>\n",
       "    </tr>\n",
       "    <tr>\n",
       "      <th>min</th>\n",
       "      <td>3.000000e+00</td>\n",
       "      <td>-3.442060e+03</td>\n",
       "      <td>-3.492264e+03</td>\n",
       "      <td>-3.442025e+03</td>\n",
       "      <td>-3.547887e+03</td>\n",
       "      <td>1.000000e+00</td>\n",
       "    </tr>\n",
       "    <tr>\n",
       "      <th>25%</th>\n",
       "      <td>6.000000e+00</td>\n",
       "      <td>-7.399208e+01</td>\n",
       "      <td>4.073496e+01</td>\n",
       "      <td>-7.399141e+01</td>\n",
       "      <td>4.073407e+01</td>\n",
       "      <td>1.000000e+00</td>\n",
       "    </tr>\n",
       "    <tr>\n",
       "      <th>50%</th>\n",
       "      <td>8.500000e+00</td>\n",
       "      <td>-7.398182e+01</td>\n",
       "      <td>4.075267e+01</td>\n",
       "      <td>-7.398017e+01</td>\n",
       "      <td>4.075318e+01</td>\n",
       "      <td>1.000000e+00</td>\n",
       "    </tr>\n",
       "    <tr>\n",
       "      <th>75%</th>\n",
       "      <td>1.250000e+01</td>\n",
       "      <td>-7.396716e+01</td>\n",
       "      <td>4.076714e+01</td>\n",
       "      <td>-7.396376e+01</td>\n",
       "      <td>4.076811e+01</td>\n",
       "      <td>2.000000e+00</td>\n",
       "    </tr>\n",
       "    <tr>\n",
       "      <th>max</th>\n",
       "      <td>5.000000e+02</td>\n",
       "      <td>3.457626e+03</td>\n",
       "      <td>3.408790e+03</td>\n",
       "      <td>3.457622e+03</td>\n",
       "      <td>3.537133e+03</td>\n",
       "      <td>6.000000e+00</td>\n",
       "    </tr>\n",
       "  </tbody>\n",
       "</table>\n",
       "</div>"
      ],
      "text/plain": [
       "        fare_amount  pickup_longitude  pickup_latitude  dropoff_longitude  \\\n",
       "count  5.486855e+07      5.486855e+07     5.486855e+07       5.486855e+07   \n",
       "mean   1.140599e+01     -7.252981e+01     3.993070e+01      -7.254059e+01   \n",
       "std    9.791473e+00      1.279479e+01     9.632379e+00       1.270911e+01   \n",
       "min    3.000000e+00     -3.442060e+03    -3.492264e+03      -3.442025e+03   \n",
       "25%    6.000000e+00     -7.399208e+01     4.073496e+01      -7.399141e+01   \n",
       "50%    8.500000e+00     -7.398182e+01     4.075267e+01      -7.398017e+01   \n",
       "75%    1.250000e+01     -7.396716e+01     4.076714e+01      -7.396376e+01   \n",
       "max    5.000000e+02      3.457626e+03     3.408790e+03       3.457622e+03   \n",
       "\n",
       "       dropoff_latitude  passenger_count  \n",
       "count      5.486855e+07     5.486855e+07  \n",
       "mean       3.993675e+01     1.692090e+00  \n",
       "std        9.596615e+00     1.307679e+00  \n",
       "min       -3.547887e+03     1.000000e+00  \n",
       "25%        4.073407e+01     1.000000e+00  \n",
       "50%        4.075318e+01     1.000000e+00  \n",
       "75%        4.076811e+01     2.000000e+00  \n",
       "max        3.537133e+03     6.000000e+00  "
      ]
     },
     "execution_count": 10,
     "metadata": {},
     "output_type": "execute_result"
    }
   ],
   "source": [
    "df = df.dropna(how = 'any', axis = 'rows')\n",
    "df.describe()"
   ]
  },
  {
   "cell_type": "markdown",
   "metadata": {},
   "source": [
    "## Step 2.5: Study Test Data \n",
    "\n",
    "We can gather a lot of insight from test data to put ranges on the training data."
   ]
  },
  {
   "cell_type": "code",
   "execution_count": 11,
   "metadata": {},
   "outputs": [
    {
     "data": {
      "text/html": [
       "<div>\n",
       "<style scoped>\n",
       "    .dataframe tbody tr th:only-of-type {\n",
       "        vertical-align: middle;\n",
       "    }\n",
       "\n",
       "    .dataframe tbody tr th {\n",
       "        vertical-align: top;\n",
       "    }\n",
       "\n",
       "    .dataframe thead th {\n",
       "        text-align: right;\n",
       "    }\n",
       "</style>\n",
       "<table border=\"1\" class=\"dataframe\">\n",
       "  <thead>\n",
       "    <tr style=\"text-align: right;\">\n",
       "      <th></th>\n",
       "      <th>pickup_longitude</th>\n",
       "      <th>pickup_latitude</th>\n",
       "      <th>dropoff_longitude</th>\n",
       "      <th>dropoff_latitude</th>\n",
       "      <th>passenger_count</th>\n",
       "      <th>distance_miles</th>\n",
       "    </tr>\n",
       "  </thead>\n",
       "  <tbody>\n",
       "    <tr>\n",
       "      <th>count</th>\n",
       "      <td>9914.000000</td>\n",
       "      <td>9914.000000</td>\n",
       "      <td>9914.000000</td>\n",
       "      <td>9914.000000</td>\n",
       "      <td>9914.000000</td>\n",
       "      <td>9914.000000</td>\n",
       "    </tr>\n",
       "    <tr>\n",
       "      <th>mean</th>\n",
       "      <td>-73.974722</td>\n",
       "      <td>40.751041</td>\n",
       "      <td>-73.973657</td>\n",
       "      <td>40.751743</td>\n",
       "      <td>1.671273</td>\n",
       "      <td>2.134640</td>\n",
       "    </tr>\n",
       "    <tr>\n",
       "      <th>std</th>\n",
       "      <td>0.042774</td>\n",
       "      <td>0.033541</td>\n",
       "      <td>0.039072</td>\n",
       "      <td>0.035435</td>\n",
       "      <td>1.278747</td>\n",
       "      <td>2.468319</td>\n",
       "    </tr>\n",
       "    <tr>\n",
       "      <th>min</th>\n",
       "      <td>-74.252193</td>\n",
       "      <td>40.573143</td>\n",
       "      <td>-74.263242</td>\n",
       "      <td>40.568973</td>\n",
       "      <td>1.000000</td>\n",
       "      <td>0.000000</td>\n",
       "    </tr>\n",
       "    <tr>\n",
       "      <th>25%</th>\n",
       "      <td>-73.992501</td>\n",
       "      <td>40.736125</td>\n",
       "      <td>-73.991247</td>\n",
       "      <td>40.735254</td>\n",
       "      <td>1.000000</td>\n",
       "      <td>0.806712</td>\n",
       "    </tr>\n",
       "    <tr>\n",
       "      <th>50%</th>\n",
       "      <td>-73.982326</td>\n",
       "      <td>40.753051</td>\n",
       "      <td>-73.980015</td>\n",
       "      <td>40.754065</td>\n",
       "      <td>1.000000</td>\n",
       "      <td>1.377836</td>\n",
       "    </tr>\n",
       "    <tr>\n",
       "      <th>75%</th>\n",
       "      <td>-73.968013</td>\n",
       "      <td>40.767113</td>\n",
       "      <td>-73.964059</td>\n",
       "      <td>40.768757</td>\n",
       "      <td>2.000000</td>\n",
       "      <td>2.513634</td>\n",
       "    </tr>\n",
       "    <tr>\n",
       "      <th>max</th>\n",
       "      <td>-72.986532</td>\n",
       "      <td>41.709555</td>\n",
       "      <td>-72.990963</td>\n",
       "      <td>41.696683</td>\n",
       "      <td>6.000000</td>\n",
       "      <td>62.134660</td>\n",
       "    </tr>\n",
       "  </tbody>\n",
       "</table>\n",
       "</div>"
      ],
      "text/plain": [
       "       pickup_longitude  pickup_latitude  dropoff_longitude  dropoff_latitude  \\\n",
       "count       9914.000000      9914.000000        9914.000000       9914.000000   \n",
       "mean         -73.974722        40.751041         -73.973657         40.751743   \n",
       "std            0.042774         0.033541           0.039072          0.035435   \n",
       "min          -74.252193        40.573143         -74.263242         40.568973   \n",
       "25%          -73.992501        40.736125         -73.991247         40.735254   \n",
       "50%          -73.982326        40.753051         -73.980015         40.754065   \n",
       "75%          -73.968013        40.767113         -73.964059         40.768757   \n",
       "max          -72.986532        41.709555         -72.990963         41.696683   \n",
       "\n",
       "       passenger_count  distance_miles  \n",
       "count      9914.000000     9914.000000  \n",
       "mean          1.671273        2.134640  \n",
       "std           1.278747        2.468319  \n",
       "min           1.000000        0.000000  \n",
       "25%           1.000000        0.806712  \n",
       "50%           1.000000        1.377836  \n",
       "75%           2.000000        2.513634  \n",
       "max           6.000000       62.134660  "
      ]
     },
     "execution_count": 11,
     "metadata": {},
     "output_type": "execute_result"
    }
   ],
   "source": [
    "import numpy as np\n",
    "def distance(lat1, lon1, lat2, lon2):\n",
    "    p = 0.017453292519943295 # Pi/180\n",
    "    a = 0.5 - np.cos((lat2 - lat1) * p)/2 + np.cos(lat1 * p) * np.cos(lat2 * p) * (1 - np.cos((lon2 - lon1) * p)) / 2\n",
    "    return 0.6213712 * 12742 * np.arcsin(np.sqrt(a)) # 2*R*asin...\n",
    "\n",
    "test_df = pd.read_csv('/Users/Shared/Work/dsf/hw2/test.csv')\n",
    "test_df['distance_miles'] = distance(test_df.pickup_latitude, test_df.pickup_longitude, test_df.dropoff_latitude, test_df.dropoff_longitude)\n",
    "test_df.describe()"
   ]
  },
  {
   "cell_type": "markdown",
   "metadata": {},
   "source": [
    "#### Conclusions\n",
    "\n",
    "Describing the test data gives us the following insights:\n",
    "1. Latitute ranges are from 40.573143 to 41.709555\n",
    "2. Longitude ranges are from -72.986532\tto -74.263242\t\n",
    "3. If we calculate the euclidean distance between pickup and drop off point, the maximum value is xx miles"
   ]
  },
  {
   "cell_type": "markdown",
   "metadata": {},
   "source": [
    "## Step 2.6: Clean bad latitudes and longitudes\n",
    "\n",
    "From the above description of test data, latitudes and longitudes outside of a certain range are never asked for. To improve the model's accuracy, we can get rid of these data points.\n",
    "\n",
    "Hence, we apply an upper and lower limit on the latitude and longitude values based on our test data above."
   ]
  },
  {
   "cell_type": "code",
   "execution_count": 12,
   "metadata": {},
   "outputs": [
    {
     "data": {
      "text/html": [
       "<div>\n",
       "<style scoped>\n",
       "    .dataframe tbody tr th:only-of-type {\n",
       "        vertical-align: middle;\n",
       "    }\n",
       "\n",
       "    .dataframe tbody tr th {\n",
       "        vertical-align: top;\n",
       "    }\n",
       "\n",
       "    .dataframe thead th {\n",
       "        text-align: right;\n",
       "    }\n",
       "</style>\n",
       "<table border=\"1\" class=\"dataframe\">\n",
       "  <thead>\n",
       "    <tr style=\"text-align: right;\">\n",
       "      <th></th>\n",
       "      <th>fare_amount</th>\n",
       "      <th>pickup_longitude</th>\n",
       "      <th>pickup_latitude</th>\n",
       "      <th>dropoff_longitude</th>\n",
       "      <th>dropoff_latitude</th>\n",
       "      <th>passenger_count</th>\n",
       "    </tr>\n",
       "  </thead>\n",
       "  <tbody>\n",
       "    <tr>\n",
       "      <th>count</th>\n",
       "      <td>5.372812e+07</td>\n",
       "      <td>5.372812e+07</td>\n",
       "      <td>5.372812e+07</td>\n",
       "      <td>5.372812e+07</td>\n",
       "      <td>5.372812e+07</td>\n",
       "      <td>5.372812e+07</td>\n",
       "    </tr>\n",
       "    <tr>\n",
       "      <th>mean</th>\n",
       "      <td>1.137676e+01</td>\n",
       "      <td>-7.397517e+01</td>\n",
       "      <td>4.075110e+01</td>\n",
       "      <td>-7.397431e+01</td>\n",
       "      <td>4.075146e+01</td>\n",
       "      <td>1.692215e+00</td>\n",
       "    </tr>\n",
       "    <tr>\n",
       "      <th>std</th>\n",
       "      <td>9.646981e+00</td>\n",
       "      <td>3.823226e-02</td>\n",
       "      <td>2.944705e-02</td>\n",
       "      <td>3.738884e-02</td>\n",
       "      <td>3.273068e-02</td>\n",
       "      <td>1.307575e+00</td>\n",
       "    </tr>\n",
       "    <tr>\n",
       "      <th>min</th>\n",
       "      <td>3.000000e+00</td>\n",
       "      <td>-7.430000e+01</td>\n",
       "      <td>4.040000e+01</td>\n",
       "      <td>-7.430000e+01</td>\n",
       "      <td>4.040000e+01</td>\n",
       "      <td>1.000000e+00</td>\n",
       "    </tr>\n",
       "    <tr>\n",
       "      <th>25%</th>\n",
       "      <td>6.000000e+00</td>\n",
       "      <td>-7.399228e+01</td>\n",
       "      <td>4.073658e+01</td>\n",
       "      <td>-7.399159e+01</td>\n",
       "      <td>4.073560e+01</td>\n",
       "      <td>1.000000e+00</td>\n",
       "    </tr>\n",
       "    <tr>\n",
       "      <th>50%</th>\n",
       "      <td>8.500000e+00</td>\n",
       "      <td>-7.398210e+01</td>\n",
       "      <td>4.075338e+01</td>\n",
       "      <td>-7.398061e+01</td>\n",
       "      <td>4.075387e+01</td>\n",
       "      <td>1.000000e+00</td>\n",
       "    </tr>\n",
       "    <tr>\n",
       "      <th>75%</th>\n",
       "      <td>1.250000e+01</td>\n",
       "      <td>-7.396835e+01</td>\n",
       "      <td>4.076756e+01</td>\n",
       "      <td>-7.396540e+01</td>\n",
       "      <td>4.076840e+01</td>\n",
       "      <td>2.000000e+00</td>\n",
       "    </tr>\n",
       "    <tr>\n",
       "      <th>max</th>\n",
       "      <td>5.000000e+02</td>\n",
       "      <td>-7.280145e+01</td>\n",
       "      <td>4.178958e+01</td>\n",
       "      <td>-7.280482e+01</td>\n",
       "      <td>4.179935e+01</td>\n",
       "      <td>6.000000e+00</td>\n",
       "    </tr>\n",
       "  </tbody>\n",
       "</table>\n",
       "</div>"
      ],
      "text/plain": [
       "        fare_amount  pickup_longitude  pickup_latitude  dropoff_longitude  \\\n",
       "count  5.372812e+07      5.372812e+07     5.372812e+07       5.372812e+07   \n",
       "mean   1.137676e+01     -7.397517e+01     4.075110e+01      -7.397431e+01   \n",
       "std    9.646981e+00      3.823226e-02     2.944705e-02       3.738884e-02   \n",
       "min    3.000000e+00     -7.430000e+01     4.040000e+01      -7.430000e+01   \n",
       "25%    6.000000e+00     -7.399228e+01     4.073658e+01      -7.399159e+01   \n",
       "50%    8.500000e+00     -7.398210e+01     4.075338e+01      -7.398061e+01   \n",
       "75%    1.250000e+01     -7.396835e+01     4.076756e+01      -7.396540e+01   \n",
       "max    5.000000e+02     -7.280145e+01     4.178958e+01      -7.280482e+01   \n",
       "\n",
       "       dropoff_latitude  passenger_count  \n",
       "count      5.372812e+07     5.372812e+07  \n",
       "mean       4.075146e+01     1.692215e+00  \n",
       "std        3.273068e-02     1.307575e+00  \n",
       "min        4.040000e+01     1.000000e+00  \n",
       "25%        4.073560e+01     1.000000e+00  \n",
       "50%        4.075387e+01     1.000000e+00  \n",
       "75%        4.076840e+01     2.000000e+00  \n",
       "max        4.179935e+01     6.000000e+00  "
      ]
     },
     "execution_count": 12,
     "metadata": {},
     "output_type": "execute_result"
    }
   ],
   "source": [
    "#Longitude\n",
    "df = df[df.pickup_longitude>=-74.3]\n",
    "df = df[df.dropoff_longitude>=-74.3]\n",
    "df = df[df.dropoff_longitude<=-72.8]\n",
    "df = df[df.pickup_longitude<=-72.8]\n",
    "\n",
    "#Latitude\n",
    "df = df[df.pickup_latitude>=40.4]\n",
    "df = df[df.dropoff_latitude>=40.4]\n",
    "df = df[df.dropoff_latitude<=41.8]\n",
    "df = df[df.pickup_latitude<=41.8]\n",
    "\n",
    "df.describe()"
   ]
  },
  {
   "cell_type": "markdown",
   "metadata": {},
   "source": [
    "Other idea could be to clean up points which go outside the map of NYC. Open source libraries allow coordinates to be plotted on images on a map.\n",
    "\n",
    "NYC also has water bodies/ large parks. We could further examine and clean out rows which either pickup/drop off from these locations"
   ]
  },
  {
   "cell_type": "markdown",
   "metadata": {},
   "source": [
    "# Step 3: Create new features"
   ]
  },
  {
   "cell_type": "markdown",
   "metadata": {},
   "source": [
    "## Step 3.1.1 : Create Distance column\n",
    "\n",
    "As one would expect, fare is directly proportional to distance traveled. It makes sense to create this column on our training data."
   ]
  },
  {
   "cell_type": "code",
   "execution_count": 14,
   "metadata": {},
   "outputs": [
    {
     "data": {
      "text/plain": [
       "Text(0.5,1,'Distance Histogram')"
      ]
     },
     "execution_count": 14,
     "metadata": {},
     "output_type": "execute_result"
    },
    {
     "data": {
      "image/png": "[encoded data removed]",
      "text/plain": [
       "<Figure size 432x288 with 1 Axes>"
      ]
     },
     "metadata": {},
     "output_type": "display_data"
    }
   ],
   "source": [
    "import matplotlib.pyplot as plt\n",
    "df['distance_miles'] = distance(df.pickup_latitude, df.pickup_longitude, df.dropoff_latitude, df.dropoff_longitude)\n",
    "df.distance_miles.hist()\n",
    "plt.xlabel('Frequency')\n",
    "plt.title('Distance Histogram')"
   ]
  },
  {
   "cell_type": "markdown",
   "metadata": {},
   "source": [
    "## Step 3.1.2: Clean bad distance rows\n",
    "\n",
    "Its safe to say that taxi would travel atleast 0.05 miles and less than 100 miles (exaggerated) within NYC. Data not conforming to this should be removed."
   ]
  },
  {
   "cell_type": "code",
   "execution_count": 15,
   "metadata": {},
   "outputs": [
    {
     "data": {
      "text/html": [
       "<div>\n",
       "<style scoped>\n",
       "    .dataframe tbody tr th:only-of-type {\n",
       "        vertical-align: middle;\n",
       "    }\n",
       "\n",
       "    .dataframe tbody tr th {\n",
       "        vertical-align: top;\n",
       "    }\n",
       "\n",
       "    .dataframe thead th {\n",
       "        text-align: right;\n",
       "    }\n",
       "</style>\n",
       "<table border=\"1\" class=\"dataframe\">\n",
       "  <thead>\n",
       "    <tr style=\"text-align: right;\">\n",
       "      <th></th>\n",
       "      <th>fare_amount</th>\n",
       "      <th>pickup_longitude</th>\n",
       "      <th>pickup_latitude</th>\n",
       "      <th>dropoff_longitude</th>\n",
       "      <th>dropoff_latitude</th>\n",
       "      <th>passenger_count</th>\n",
       "      <th>distance_miles</th>\n",
       "    </tr>\n",
       "  </thead>\n",
       "  <tbody>\n",
       "    <tr>\n",
       "      <th>count</th>\n",
       "      <td>5.302161e+07</td>\n",
       "      <td>5.302161e+07</td>\n",
       "      <td>5.302161e+07</td>\n",
       "      <td>5.302161e+07</td>\n",
       "      <td>5.302161e+07</td>\n",
       "      <td>5.302161e+07</td>\n",
       "      <td>5.302161e+07</td>\n",
       "    </tr>\n",
       "    <tr>\n",
       "      <th>mean</th>\n",
       "      <td>1.132863e+01</td>\n",
       "      <td>-7.397555e+01</td>\n",
       "      <td>4.075100e+01</td>\n",
       "      <td>-7.397468e+01</td>\n",
       "      <td>4.075136e+01</td>\n",
       "      <td>1.692525e+00</td>\n",
       "      <td>2.105537e+00</td>\n",
       "    </tr>\n",
       "    <tr>\n",
       "      <th>std</th>\n",
       "      <td>9.428193e+00</td>\n",
       "      <td>3.539938e-02</td>\n",
       "      <td>2.762060e-02</td>\n",
       "      <td>3.448389e-02</td>\n",
       "      <td>3.114249e-02</td>\n",
       "      <td>1.307702e+00</td>\n",
       "      <td>2.337850e+00</td>\n",
       "    </tr>\n",
       "    <tr>\n",
       "      <th>min</th>\n",
       "      <td>3.000000e+00</td>\n",
       "      <td>-7.430000e+01</td>\n",
       "      <td>4.040000e+01</td>\n",
       "      <td>-7.430000e+01</td>\n",
       "      <td>4.040000e+01</td>\n",
       "      <td>1.000000e+00</td>\n",
       "      <td>5.000107e-02</td>\n",
       "    </tr>\n",
       "    <tr>\n",
       "      <th>25%</th>\n",
       "      <td>6.100000e+00</td>\n",
       "      <td>-7.399229e+01</td>\n",
       "      <td>4.073662e+01</td>\n",
       "      <td>-7.399159e+01</td>\n",
       "      <td>4.073564e+01</td>\n",
       "      <td>1.000000e+00</td>\n",
       "      <td>8.055347e-01</td>\n",
       "    </tr>\n",
       "    <tr>\n",
       "      <th>50%</th>\n",
       "      <td>8.500000e+00</td>\n",
       "      <td>-7.398213e+01</td>\n",
       "      <td>4.075340e+01</td>\n",
       "      <td>-7.398064e+01</td>\n",
       "      <td>4.075390e+01</td>\n",
       "      <td>1.000000e+00</td>\n",
       "      <td>1.363495e+00</td>\n",
       "    </tr>\n",
       "    <tr>\n",
       "      <th>75%</th>\n",
       "      <td>1.250000e+01</td>\n",
       "      <td>-7.396851e+01</td>\n",
       "      <td>4.076755e+01</td>\n",
       "      <td>-7.396560e+01</td>\n",
       "      <td>4.076840e+01</td>\n",
       "      <td>2.000000e+00</td>\n",
       "      <td>2.463535e+00</td>\n",
       "    </tr>\n",
       "    <tr>\n",
       "      <th>max</th>\n",
       "      <td>5.000000e+02</td>\n",
       "      <td>-7.280145e+01</td>\n",
       "      <td>4.178958e+01</td>\n",
       "      <td>-7.280482e+01</td>\n",
       "      <td>4.179935e+01</td>\n",
       "      <td>6.000000e+00</td>\n",
       "      <td>8.937474e+01</td>\n",
       "    </tr>\n",
       "  </tbody>\n",
       "</table>\n",
       "</div>"
      ],
      "text/plain": [
       "        fare_amount  pickup_longitude  pickup_latitude  dropoff_longitude  \\\n",
       "count  5.302161e+07      5.302161e+07     5.302161e+07       5.302161e+07   \n",
       "mean   1.132863e+01     -7.397555e+01     4.075100e+01      -7.397468e+01   \n",
       "std    9.428193e+00      3.539938e-02     2.762060e-02       3.448389e-02   \n",
       "min    3.000000e+00     -7.430000e+01     4.040000e+01      -7.430000e+01   \n",
       "25%    6.100000e+00     -7.399229e+01     4.073662e+01      -7.399159e+01   \n",
       "50%    8.500000e+00     -7.398213e+01     4.075340e+01      -7.398064e+01   \n",
       "75%    1.250000e+01     -7.396851e+01     4.076755e+01      -7.396560e+01   \n",
       "max    5.000000e+02     -7.280145e+01     4.178958e+01      -7.280482e+01   \n",
       "\n",
       "       dropoff_latitude  passenger_count  distance_miles  \n",
       "count      5.302161e+07     5.302161e+07    5.302161e+07  \n",
       "mean       4.075136e+01     1.692525e+00    2.105537e+00  \n",
       "std        3.114249e-02     1.307702e+00    2.337850e+00  \n",
       "min        4.040000e+01     1.000000e+00    5.000107e-02  \n",
       "25%        4.073564e+01     1.000000e+00    8.055347e-01  \n",
       "50%        4.075390e+01     1.000000e+00    1.363495e+00  \n",
       "75%        4.076840e+01     2.000000e+00    2.463535e+00  \n",
       "max        4.179935e+01     6.000000e+00    8.937474e+01  "
      ]
     },
     "execution_count": 15,
     "metadata": {},
     "output_type": "execute_result"
    }
   ],
   "source": [
    "df = df[df.distance_miles > 0.05]\n",
    "df = df[df.distance_miles < 100]\n",
    "df.describe()"
   ]
  },
  {
   "cell_type": "markdown",
   "metadata": {},
   "source": [
    "A quick scatter plot will give us more insight "
   ]
  },
  {
   "cell_type": "code",
   "execution_count": 16,
   "metadata": {},
   "outputs": [
    {
     "data": {
      "text/plain": [
       "<matplotlib.axes._subplots.AxesSubplot at 0x1138a4c88>"
      ]
     },
     "execution_count": 16,
     "metadata": {},
     "output_type": "execute_result"
    },
    {
     "data": {
      "image/png": "[encoded data removed]",
      "text/plain": [
       "<Figure size 432x288 with 1 Axes>"
      ]
     },
     "metadata": {},
     "output_type": "display_data"
    }
   ],
   "source": [
    "df.plot.scatter(x='distance_miles',y='fare_amount')"
   ]
  },
  {
   "cell_type": "markdown",
   "metadata": {},
   "source": [
    "Overall it looks like a linear graph, which makes sense. Let's try to get rid of some extreme anomalies"
   ]
  },
  {
   "cell_type": "code",
   "execution_count": 17,
   "metadata": {},
   "outputs": [],
   "source": [
    "df = df[~((df['fare_amount']>=300) & (df['distance_miles']<=20))]"
   ]
  },
  {
   "cell_type": "code",
   "execution_count": 18,
   "metadata": {},
   "outputs": [],
   "source": [
    "df = df[~((df['fare_amount']<=100) & (df['distance_miles']>=70))]"
   ]
  },
  {
   "cell_type": "markdown",
   "metadata": {},
   "source": [
    "## Step 3.2.1 : Create Day of the Week column\n",
    "\n",
    "Traffic highly depends on the day of the week. For instance, weekdays tend to have peaker traffic than weekends. It makes sense to create such a column"
   ]
  },
  {
   "cell_type": "markdown",
   "metadata": {},
   "source": [
    "## Step 3.2.2: Clean bad days of week\n",
    "\n",
    "Days of the week which are null or other than the 7 days should be deleted!"
   ]
  },
  {
   "cell_type": "markdown",
   "metadata": {},
   "source": [
    "## Step 3.3.1: Create column for fixed fares\n",
    "\n",
    "We know that JFK to Manhattan costs $52, a fixed flat rate.\n",
    "\n",
    "A quick google search gives us the coordinates of JFK and loosening the bounds for accomodating different gates/terminals of the airport, we can classify our rows for fixed distance fares."
   ]
  },
  {
   "cell_type": "code",
   "execution_count": 20,
   "metadata": {},
   "outputs": [
    {
     "data": {
      "text/plain": [
       "150571"
      ]
     },
     "execution_count": 20,
     "metadata": {},
     "output_type": "execute_result"
    }
   ],
   "source": [
    "jfk_lat_upper = 40.64\n",
    "jfk_lat_lower = 40.65\n",
    "jfk_lon_upper = -73.77\n",
    "jfk_lon_lower = -73.78\n",
    "\n",
    "len(df[(df['pickup_latitude']>=jfk_lat_upper) & (df['pickup_latitude']<=jfk_lat_lower) & (df['pickup_longitude']>=jfk_lon_lower) & (df['pickup_longitude']<=jfk_lon_upper)])\n"
   ]
  },
  {
   "cell_type": "markdown",
   "metadata": {},
   "source": [
    "It's a significant number of rows, so it definitely calls for a new feature!"
   ]
  },
  {
   "cell_type": "code",
   "execution_count": 21,
   "metadata": {},
   "outputs": [],
   "source": [
    "df['airport_fare'] = 0\n",
    "df.loc[(df['pickup_latitude']>=jfk_lat_upper) & (df['pickup_latitude']<=jfk_lat_lower) & (df['pickup_longitude']>=jfk_lon_lower) & (df['pickup_longitude']<=jfk_lon_upper), 'airport_fare'] = 1"
   ]
  },
  {
   "cell_type": "markdown",
   "metadata": {},
   "source": [
    "## Step 3.4.1 : Create Hour/Minute columns\n",
    "\n",
    "Traffic also depends on what hour of the day it is. So its crucial to create this column and study the relationship of time with fare amount."
   ]
  },
  {
   "cell_type": "code",
   "execution_count": 22,
   "metadata": {},
   "outputs": [
    {
     "data": {
      "text/html": [
       "<div>\n",
       "<style scoped>\n",
       "    .dataframe tbody tr th:only-of-type {\n",
       "        vertical-align: middle;\n",
       "    }\n",
       "\n",
       "    .dataframe tbody tr th {\n",
       "        vertical-align: top;\n",
       "    }\n",
       "\n",
       "    .dataframe thead th {\n",
       "        text-align: right;\n",
       "    }\n",
       "</style>\n",
       "<table border=\"1\" class=\"dataframe\">\n",
       "  <thead>\n",
       "    <tr style=\"text-align: right;\">\n",
       "      <th></th>\n",
       "      <th>fare_amount</th>\n",
       "      <th>pickup_longitude</th>\n",
       "      <th>pickup_latitude</th>\n",
       "      <th>dropoff_longitude</th>\n",
       "      <th>dropoff_latitude</th>\n",
       "      <th>passenger_count</th>\n",
       "      <th>distance_miles</th>\n",
       "      <th>airport_fare</th>\n",
       "      <th>pickup_hh</th>\n",
       "      <th>pickup_mm</th>\n",
       "      <th>pickup_hhmm</th>\n",
       "    </tr>\n",
       "  </thead>\n",
       "  <tbody>\n",
       "    <tr>\n",
       "      <th>count</th>\n",
       "      <td>5.302149e+07</td>\n",
       "      <td>5.302149e+07</td>\n",
       "      <td>5.302149e+07</td>\n",
       "      <td>5.302149e+07</td>\n",
       "      <td>5.302149e+07</td>\n",
       "      <td>5.302149e+07</td>\n",
       "      <td>5.302149e+07</td>\n",
       "      <td>5.302149e+07</td>\n",
       "      <td>5.302149e+07</td>\n",
       "      <td>5.302149e+07</td>\n",
       "      <td>5.302149e+07</td>\n",
       "    </tr>\n",
       "    <tr>\n",
       "      <th>mean</th>\n",
       "      <td>1.132827e+01</td>\n",
       "      <td>-7.397555e+01</td>\n",
       "      <td>4.075100e+01</td>\n",
       "      <td>-7.397468e+01</td>\n",
       "      <td>4.075136e+01</td>\n",
       "      <td>1.692525e+00</td>\n",
       "      <td>2.105434e+00</td>\n",
       "      <td>2.839811e-03</td>\n",
       "      <td>1.351816e+01</td>\n",
       "      <td>2.958122e+01</td>\n",
       "      <td>1.381397e+03</td>\n",
       "    </tr>\n",
       "    <tr>\n",
       "      <th>std</th>\n",
       "      <td>9.422107e+00</td>\n",
       "      <td>3.538606e-02</td>\n",
       "      <td>2.761011e-02</td>\n",
       "      <td>3.448178e-02</td>\n",
       "      <td>3.114109e-02</td>\n",
       "      <td>1.307703e+00</td>\n",
       "      <td>2.336309e+00</td>\n",
       "      <td>5.321416e-02</td>\n",
       "      <td>6.515275e+00</td>\n",
       "      <td>1.732963e+01</td>\n",
       "      <td>6.517775e+02</td>\n",
       "    </tr>\n",
       "    <tr>\n",
       "      <th>min</th>\n",
       "      <td>3.000000e+00</td>\n",
       "      <td>-7.430000e+01</td>\n",
       "      <td>4.040000e+01</td>\n",
       "      <td>-7.430000e+01</td>\n",
       "      <td>4.040000e+01</td>\n",
       "      <td>1.000000e+00</td>\n",
       "      <td>5.000107e-02</td>\n",
       "      <td>0.000000e+00</td>\n",
       "      <td>0.000000e+00</td>\n",
       "      <td>0.000000e+00</td>\n",
       "      <td>0.000000e+00</td>\n",
       "    </tr>\n",
       "    <tr>\n",
       "      <th>25%</th>\n",
       "      <td>6.100000e+00</td>\n",
       "      <td>-7.399229e+01</td>\n",
       "      <td>4.073662e+01</td>\n",
       "      <td>-7.399159e+01</td>\n",
       "      <td>4.073564e+01</td>\n",
       "      <td>1.000000e+00</td>\n",
       "      <td>8.055346e-01</td>\n",
       "      <td>0.000000e+00</td>\n",
       "      <td>9.000000e+00</td>\n",
       "      <td>1.500000e+01</td>\n",
       "      <td>9.260000e+02</td>\n",
       "    </tr>\n",
       "    <tr>\n",
       "      <th>50%</th>\n",
       "      <td>8.500000e+00</td>\n",
       "      <td>-7.398213e+01</td>\n",
       "      <td>4.075340e+01</td>\n",
       "      <td>-7.398064e+01</td>\n",
       "      <td>4.075390e+01</td>\n",
       "      <td>1.000000e+00</td>\n",
       "      <td>1.363493e+00</td>\n",
       "      <td>0.000000e+00</td>\n",
       "      <td>1.400000e+01</td>\n",
       "      <td>3.000000e+01</td>\n",
       "      <td>1.440000e+03</td>\n",
       "    </tr>\n",
       "    <tr>\n",
       "      <th>75%</th>\n",
       "      <td>1.250000e+01</td>\n",
       "      <td>-7.396851e+01</td>\n",
       "      <td>4.076755e+01</td>\n",
       "      <td>-7.396560e+01</td>\n",
       "      <td>4.076840e+01</td>\n",
       "      <td>2.000000e+00</td>\n",
       "      <td>2.463526e+00</td>\n",
       "      <td>0.000000e+00</td>\n",
       "      <td>1.900000e+01</td>\n",
       "      <td>4.500000e+01</td>\n",
       "      <td>1.932000e+03</td>\n",
       "    </tr>\n",
       "    <tr>\n",
       "      <th>max</th>\n",
       "      <td>4.500000e+02</td>\n",
       "      <td>-7.280145e+01</td>\n",
       "      <td>4.178958e+01</td>\n",
       "      <td>-7.280482e+01</td>\n",
       "      <td>4.179935e+01</td>\n",
       "      <td>6.000000e+00</td>\n",
       "      <td>7.167200e+01</td>\n",
       "      <td>1.000000e+00</td>\n",
       "      <td>2.300000e+01</td>\n",
       "      <td>5.900000e+01</td>\n",
       "      <td>2.359000e+03</td>\n",
       "    </tr>\n",
       "  </tbody>\n",
       "</table>\n",
       "</div>"
      ],
      "text/plain": [
       "        fare_amount  pickup_longitude  pickup_latitude  dropoff_longitude  \\\n",
       "count  5.302149e+07      5.302149e+07     5.302149e+07       5.302149e+07   \n",
       "mean   1.132827e+01     -7.397555e+01     4.075100e+01      -7.397468e+01   \n",
       "std    9.422107e+00      3.538606e-02     2.761011e-02       3.448178e-02   \n",
       "min    3.000000e+00     -7.430000e+01     4.040000e+01      -7.430000e+01   \n",
       "25%    6.100000e+00     -7.399229e+01     4.073662e+01      -7.399159e+01   \n",
       "50%    8.500000e+00     -7.398213e+01     4.075340e+01      -7.398064e+01   \n",
       "75%    1.250000e+01     -7.396851e+01     4.076755e+01      -7.396560e+01   \n",
       "max    4.500000e+02     -7.280145e+01     4.178958e+01      -7.280482e+01   \n",
       "\n",
       "       dropoff_latitude  passenger_count  distance_miles  airport_fare  \\\n",
       "count      5.302149e+07     5.302149e+07    5.302149e+07  5.302149e+07   \n",
       "mean       4.075136e+01     1.692525e+00    2.105434e+00  2.839811e-03   \n",
       "std        3.114109e-02     1.307703e+00    2.336309e+00  5.321416e-02   \n",
       "min        4.040000e+01     1.000000e+00    5.000107e-02  0.000000e+00   \n",
       "25%        4.073564e+01     1.000000e+00    8.055346e-01  0.000000e+00   \n",
       "50%        4.075390e+01     1.000000e+00    1.363493e+00  0.000000e+00   \n",
       "75%        4.076840e+01     2.000000e+00    2.463526e+00  0.000000e+00   \n",
       "max        4.179935e+01     6.000000e+00    7.167200e+01  1.000000e+00   \n",
       "\n",
       "          pickup_hh     pickup_mm   pickup_hhmm  \n",
       "count  5.302149e+07  5.302149e+07  5.302149e+07  \n",
       "mean   1.351816e+01  2.958122e+01  1.381397e+03  \n",
       "std    6.515275e+00  1.732963e+01  6.517775e+02  \n",
       "min    0.000000e+00  0.000000e+00  0.000000e+00  \n",
       "25%    9.000000e+00  1.500000e+01  9.260000e+02  \n",
       "50%    1.400000e+01  3.000000e+01  1.440000e+03  \n",
       "75%    1.900000e+01  4.500000e+01  1.932000e+03  \n",
       "max    2.300000e+01  5.900000e+01  2.359000e+03  "
      ]
     },
     "execution_count": 22,
     "metadata": {},
     "output_type": "execute_result"
    }
   ],
   "source": [
    "df['pickup_hh'] = df.key.str.slice(11,13)\n",
    "df['pickup_mm'] = df.key.str.slice(14,16)\n",
    "df['pickup_hhmm'] = df[\"pickup_hh\"] + df[\"pickup_mm\"]\n",
    "df['pickup_hh'] = df['pickup_hh'].astype(int)\n",
    "df['pickup_mm'] = df['pickup_mm'].astype(int)\n",
    "df['pickup_hhmm'] = df['pickup_hhmm'].astype(int)\n",
    "df.head(10)\n",
    "df.describe()"
   ]
  },
  {
   "cell_type": "markdown",
   "metadata": {},
   "source": [
    "## Step 3.5.1: Create column to identify peak hours\n",
    "\n",
    "First lets figure out when is peak hour from simple stats count."
   ]
  },
  {
   "cell_type": "code",
   "execution_count": 23,
   "metadata": {},
   "outputs": [
    {
     "data": {
      "text/plain": [
       "Text(0.5,1,'Pickup Hour Histogram')"
      ]
     },
     "execution_count": 23,
     "metadata": {},
     "output_type": "execute_result"
    },
    {
     "data": {
      "image/png": "[encoded data removed]",
      "text/plain": [
       "<Figure size 432x288 with 1 Axes>"
      ]
     },
     "metadata": {},
     "output_type": "display_data"
    }
   ],
   "source": [
    "df.pickup_hh.hist()\n",
    "plt.xlabel('Pickup Hour')\n",
    "plt.title('Pickup Hour Histogram')"
   ]
  },
  {
   "cell_type": "code",
   "execution_count": 24,
   "metadata": {},
   "outputs": [
    {
     "data": {
      "text/plain": [
       "pickup_hh\n",
       "0     2098903\n",
       "1     1551580\n",
       "2     1155180\n",
       "3      844353\n",
       "4      609771\n",
       "5      513135\n",
       "6     1084673\n",
       "7     1909202\n",
       "8     2410658\n",
       "9     2480511\n",
       "10    2393629\n",
       "11    2469638\n",
       "12    2608492\n",
       "13    2591786\n",
       "14    2669043\n",
       "15    2545974\n",
       "16    2183322\n",
       "17    2626962\n",
       "18    3196567\n",
       "19    3319759\n",
       "20    3128450\n",
       "21    3042581\n",
       "22    2959326\n",
       "23    2627992\n",
       "Name: pickup_hh, dtype: int64"
      ]
     },
     "execution_count": 24,
     "metadata": {},
     "output_type": "execute_result"
    }
   ],
   "source": [
    "df.groupby('pickup_hh').pickup_hh.count()"
   ]
  },
  {
   "cell_type": "markdown",
   "metadata": {},
   "source": [
    "Let's try to make peak and super peak hours of the day based on this distribution of data:\n",
    "Let peak ~ Greater than 2400000 data rows\n",
    "Let super peak ~ Greater than 3000000 data rows"
   ]
  },
  {
   "cell_type": "code",
   "execution_count": 25,
   "metadata": {},
   "outputs": [
    {
     "data": {
      "text/html": [
       "<div>\n",
       "<style scoped>\n",
       "    .dataframe tbody tr th:only-of-type {\n",
       "        vertical-align: middle;\n",
       "    }\n",
       "\n",
       "    .dataframe tbody tr th {\n",
       "        vertical-align: top;\n",
       "    }\n",
       "\n",
       "    .dataframe thead th {\n",
       "        text-align: right;\n",
       "    }\n",
       "</style>\n",
       "<table border=\"1\" class=\"dataframe\">\n",
       "  <thead>\n",
       "    <tr style=\"text-align: right;\">\n",
       "      <th></th>\n",
       "      <th>key</th>\n",
       "      <th>fare_amount</th>\n",
       "      <th>pickup_datetime</th>\n",
       "      <th>pickup_longitude</th>\n",
       "      <th>pickup_latitude</th>\n",
       "      <th>dropoff_longitude</th>\n",
       "      <th>dropoff_latitude</th>\n",
       "      <th>passenger_count</th>\n",
       "      <th>distance_miles</th>\n",
       "      <th>airport_fare</th>\n",
       "      <th>pickup_hh</th>\n",
       "      <th>pickup_mm</th>\n",
       "      <th>pickup_hhmm</th>\n",
       "      <th>peak</th>\n",
       "    </tr>\n",
       "  </thead>\n",
       "  <tbody>\n",
       "    <tr>\n",
       "      <th>0</th>\n",
       "      <td>2009-06-15 17:26:21.0000001</td>\n",
       "      <td>4.5</td>\n",
       "      <td>2009-06-15 17:26:21 UTC</td>\n",
       "      <td>-73.844311</td>\n",
       "      <td>40.721319</td>\n",
       "      <td>-73.841610</td>\n",
       "      <td>40.712278</td>\n",
       "      <td>1</td>\n",
       "      <td>0.640487</td>\n",
       "      <td>0</td>\n",
       "      <td>17</td>\n",
       "      <td>26</td>\n",
       "      <td>1726</td>\n",
       "      <td>2</td>\n",
       "    </tr>\n",
       "    <tr>\n",
       "      <th>1</th>\n",
       "      <td>2010-01-05 16:52:16.0000002</td>\n",
       "      <td>16.9</td>\n",
       "      <td>2010-01-05 16:52:16 UTC</td>\n",
       "      <td>-74.016048</td>\n",
       "      <td>40.711303</td>\n",
       "      <td>-73.979268</td>\n",
       "      <td>40.782004</td>\n",
       "      <td>1</td>\n",
       "      <td>5.250670</td>\n",
       "      <td>0</td>\n",
       "      <td>16</td>\n",
       "      <td>52</td>\n",
       "      <td>1652</td>\n",
       "      <td>1</td>\n",
       "    </tr>\n",
       "    <tr>\n",
       "      <th>2</th>\n",
       "      <td>2011-08-18 00:35:00.00000049</td>\n",
       "      <td>5.7</td>\n",
       "      <td>2011-08-18 00:35:00 UTC</td>\n",
       "      <td>-73.982738</td>\n",
       "      <td>40.761270</td>\n",
       "      <td>-73.991242</td>\n",
       "      <td>40.750562</td>\n",
       "      <td>2</td>\n",
       "      <td>0.863411</td>\n",
       "      <td>0</td>\n",
       "      <td>0</td>\n",
       "      <td>35</td>\n",
       "      <td>35</td>\n",
       "      <td>1</td>\n",
       "    </tr>\n",
       "    <tr>\n",
       "      <th>3</th>\n",
       "      <td>2012-04-21 04:30:42.0000001</td>\n",
       "      <td>7.7</td>\n",
       "      <td>2012-04-21 04:30:42 UTC</td>\n",
       "      <td>-73.987130</td>\n",
       "      <td>40.733143</td>\n",
       "      <td>-73.991567</td>\n",
       "      <td>40.758092</td>\n",
       "      <td>1</td>\n",
       "      <td>1.739386</td>\n",
       "      <td>0</td>\n",
       "      <td>4</td>\n",
       "      <td>30</td>\n",
       "      <td>430</td>\n",
       "      <td>1</td>\n",
       "    </tr>\n",
       "    <tr>\n",
       "      <th>4</th>\n",
       "      <td>2010-03-09 07:51:00.000000135</td>\n",
       "      <td>5.3</td>\n",
       "      <td>2010-03-09 07:51:00 UTC</td>\n",
       "      <td>-73.968095</td>\n",
       "      <td>40.768008</td>\n",
       "      <td>-73.956655</td>\n",
       "      <td>40.783762</td>\n",
       "      <td>1</td>\n",
       "      <td>1.242218</td>\n",
       "      <td>0</td>\n",
       "      <td>7</td>\n",
       "      <td>51</td>\n",
       "      <td>751</td>\n",
       "      <td>1</td>\n",
       "    </tr>\n",
       "    <tr>\n",
       "      <th>5</th>\n",
       "      <td>2011-01-06 09:50:45.0000002</td>\n",
       "      <td>12.1</td>\n",
       "      <td>2011-01-06 09:50:45 UTC</td>\n",
       "      <td>-74.000964</td>\n",
       "      <td>40.731630</td>\n",
       "      <td>-73.972892</td>\n",
       "      <td>40.758233</td>\n",
       "      <td>1</td>\n",
       "      <td>2.353281</td>\n",
       "      <td>0</td>\n",
       "      <td>9</td>\n",
       "      <td>50</td>\n",
       "      <td>950</td>\n",
       "      <td>2</td>\n",
       "    </tr>\n",
       "    <tr>\n",
       "      <th>6</th>\n",
       "      <td>2012-11-20 20:35:00.0000001</td>\n",
       "      <td>7.5</td>\n",
       "      <td>2012-11-20 20:35:00 UTC</td>\n",
       "      <td>-73.980002</td>\n",
       "      <td>40.751662</td>\n",
       "      <td>-73.973802</td>\n",
       "      <td>40.764842</td>\n",
       "      <td>1</td>\n",
       "      <td>0.966733</td>\n",
       "      <td>0</td>\n",
       "      <td>20</td>\n",
       "      <td>35</td>\n",
       "      <td>2035</td>\n",
       "      <td>3</td>\n",
       "    </tr>\n",
       "    <tr>\n",
       "      <th>7</th>\n",
       "      <td>2012-01-04 17:22:00.00000081</td>\n",
       "      <td>16.5</td>\n",
       "      <td>2012-01-04 17:22:00 UTC</td>\n",
       "      <td>-73.951300</td>\n",
       "      <td>40.774138</td>\n",
       "      <td>-73.990095</td>\n",
       "      <td>40.751048</td>\n",
       "      <td>1</td>\n",
       "      <td>2.582073</td>\n",
       "      <td>0</td>\n",
       "      <td>17</td>\n",
       "      <td>22</td>\n",
       "      <td>1722</td>\n",
       "      <td>2</td>\n",
       "    </tr>\n",
       "    <tr>\n",
       "      <th>8</th>\n",
       "      <td>2012-12-03 13:10:00.000000125</td>\n",
       "      <td>9.0</td>\n",
       "      <td>2012-12-03 13:10:00 UTC</td>\n",
       "      <td>-74.006462</td>\n",
       "      <td>40.726713</td>\n",
       "      <td>-73.993078</td>\n",
       "      <td>40.731628</td>\n",
       "      <td>1</td>\n",
       "      <td>0.778722</td>\n",
       "      <td>0</td>\n",
       "      <td>13</td>\n",
       "      <td>10</td>\n",
       "      <td>1310</td>\n",
       "      <td>2</td>\n",
       "    </tr>\n",
       "    <tr>\n",
       "      <th>9</th>\n",
       "      <td>2009-09-02 01:11:00.00000083</td>\n",
       "      <td>8.9</td>\n",
       "      <td>2009-09-02 01:11:00 UTC</td>\n",
       "      <td>-73.980658</td>\n",
       "      <td>40.733873</td>\n",
       "      <td>-73.991540</td>\n",
       "      <td>40.758138</td>\n",
       "      <td>2</td>\n",
       "      <td>1.770676</td>\n",
       "      <td>0</td>\n",
       "      <td>1</td>\n",
       "      <td>11</td>\n",
       "      <td>111</td>\n",
       "      <td>1</td>\n",
       "    </tr>\n",
       "  </tbody>\n",
       "</table>\n",
       "</div>"
      ],
      "text/plain": [
       "                             key  fare_amount          pickup_datetime  \\\n",
       "0    2009-06-15 17:26:21.0000001          4.5  2009-06-15 17:26:21 UTC   \n",
       "1    2010-01-05 16:52:16.0000002         16.9  2010-01-05 16:52:16 UTC   \n",
       "2   2011-08-18 00:35:00.00000049          5.7  2011-08-18 00:35:00 UTC   \n",
       "3    2012-04-21 04:30:42.0000001          7.7  2012-04-21 04:30:42 UTC   \n",
       "4  2010-03-09 07:51:00.000000135          5.3  2010-03-09 07:51:00 UTC   \n",
       "5    2011-01-06 09:50:45.0000002         12.1  2011-01-06 09:50:45 UTC   \n",
       "6    2012-11-20 20:35:00.0000001          7.5  2012-11-20 20:35:00 UTC   \n",
       "7   2012-01-04 17:22:00.00000081         16.5  2012-01-04 17:22:00 UTC   \n",
       "8  2012-12-03 13:10:00.000000125          9.0  2012-12-03 13:10:00 UTC   \n",
       "9   2009-09-02 01:11:00.00000083          8.9  2009-09-02 01:11:00 UTC   \n",
       "\n",
       "   pickup_longitude  pickup_latitude  dropoff_longitude  dropoff_latitude  \\\n",
       "0        -73.844311        40.721319         -73.841610         40.712278   \n",
       "1        -74.016048        40.711303         -73.979268         40.782004   \n",
       "2        -73.982738        40.761270         -73.991242         40.750562   \n",
       "3        -73.987130        40.733143         -73.991567         40.758092   \n",
       "4        -73.968095        40.768008         -73.956655         40.783762   \n",
       "5        -74.000964        40.731630         -73.972892         40.758233   \n",
       "6        -73.980002        40.751662         -73.973802         40.764842   \n",
       "7        -73.951300        40.774138         -73.990095         40.751048   \n",
       "8        -74.006462        40.726713         -73.993078         40.731628   \n",
       "9        -73.980658        40.733873         -73.991540         40.758138   \n",
       "\n",
       "   passenger_count  distance_miles  airport_fare  pickup_hh  pickup_mm  \\\n",
       "0                1        0.640487             0         17         26   \n",
       "1                1        5.250670             0         16         52   \n",
       "2                2        0.863411             0          0         35   \n",
       "3                1        1.739386             0          4         30   \n",
       "4                1        1.242218             0          7         51   \n",
       "5                1        2.353281             0          9         50   \n",
       "6                1        0.966733             0         20         35   \n",
       "7                1        2.582073             0         17         22   \n",
       "8                1        0.778722             0         13         10   \n",
       "9                2        1.770676             0          1         11   \n",
       "\n",
       "   pickup_hhmm  peak  \n",
       "0         1726     2  \n",
       "1         1652     1  \n",
       "2           35     1  \n",
       "3          430     1  \n",
       "4          751     1  \n",
       "5          950     2  \n",
       "6         2035     3  \n",
       "7         1722     2  \n",
       "8         1310     2  \n",
       "9          111     1  "
      ]
     },
     "execution_count": 25,
     "metadata": {},
     "output_type": "execute_result"
    }
   ],
   "source": [
    "peak_hours = [8,9,10,11,13,15,12,14,17,22,23]\n",
    "super_peak_hours = [18,19,20,21]\n",
    "df['peak'] = 1\n",
    "df.loc[df['pickup_hh'].isin(peak_hours), 'peak'] = 2\n",
    "df.loc[df['pickup_hh'].isin(super_peak_hours), 'peak'] = 3\n",
    "df.head(10)"
   ]
  },
  {
   "cell_type": "markdown",
   "metadata": {},
   "source": [
    "# Step 4.1: Finding correlations\n",
    "\n",
    "Let's try to find pearson correlations between all columns to find our best features for the model."
   ]
  },
  {
   "cell_type": "code",
   "execution_count": 26,
   "metadata": {},
   "outputs": [
    {
     "data": {
      "text/html": [
       "<div>\n",
       "<style scoped>\n",
       "    .dataframe tbody tr th:only-of-type {\n",
       "        vertical-align: middle;\n",
       "    }\n",
       "\n",
       "    .dataframe tbody tr th {\n",
       "        vertical-align: top;\n",
       "    }\n",
       "\n",
       "    .dataframe thead th {\n",
       "        text-align: right;\n",
       "    }\n",
       "</style>\n",
       "<table border=\"1\" class=\"dataframe\">\n",
       "  <thead>\n",
       "    <tr style=\"text-align: right;\">\n",
       "      <th></th>\n",
       "      <th>fare_amount</th>\n",
       "      <th>pickup_longitude</th>\n",
       "      <th>pickup_latitude</th>\n",
       "      <th>dropoff_longitude</th>\n",
       "      <th>dropoff_latitude</th>\n",
       "      <th>passenger_count</th>\n",
       "      <th>distance_miles</th>\n",
       "      <th>airport_fare</th>\n",
       "      <th>pickup_hh</th>\n",
       "      <th>pickup_mm</th>\n",
       "      <th>pickup_hhmm</th>\n",
       "      <th>peak</th>\n",
       "    </tr>\n",
       "  </thead>\n",
       "  <tbody>\n",
       "    <tr>\n",
       "      <th>fare_amount</th>\n",
       "      <td>1.000000</td>\n",
       "      <td>0.428928</td>\n",
       "      <td>-0.212468</td>\n",
       "      <td>0.324062</td>\n",
       "      <td>-0.169025</td>\n",
       "      <td>0.015024</td>\n",
       "      <td>0.859417</td>\n",
       "      <td>0.181582</td>\n",
       "      <td>-0.017555</td>\n",
       "      <td>-0.007717</td>\n",
       "      <td>-0.017754</td>\n",
       "      <td>-0.037269</td>\n",
       "    </tr>\n",
       "    <tr>\n",
       "      <th>pickup_longitude</th>\n",
       "      <td>0.428928</td>\n",
       "      <td>1.000000</td>\n",
       "      <td>0.027260</td>\n",
       "      <td>0.272095</td>\n",
       "      <td>0.059762</td>\n",
       "      <td>0.001040</td>\n",
       "      <td>0.483353</td>\n",
       "      <td>0.299545</td>\n",
       "      <td>0.019702</td>\n",
       "      <td>-0.001698</td>\n",
       "      <td>0.019650</td>\n",
       "      <td>0.006057</td>\n",
       "    </tr>\n",
       "    <tr>\n",
       "      <th>pickup_latitude</th>\n",
       "      <td>-0.212468</td>\n",
       "      <td>0.027260</td>\n",
       "      <td>1.000000</td>\n",
       "      <td>0.066146</td>\n",
       "      <td>0.395898</td>\n",
       "      <td>-0.008912</td>\n",
       "      <td>-0.173940</td>\n",
       "      <td>-0.203861</td>\n",
       "      <td>0.026255</td>\n",
       "      <td>-0.000098</td>\n",
       "      <td>0.026243</td>\n",
       "      <td>0.039755</td>\n",
       "    </tr>\n",
       "    <tr>\n",
       "      <th>dropoff_longitude</th>\n",
       "      <td>0.324062</td>\n",
       "      <td>0.272095</td>\n",
       "      <td>0.066146</td>\n",
       "      <td>1.000000</td>\n",
       "      <td>0.167123</td>\n",
       "      <td>-0.000980</td>\n",
       "      <td>0.384622</td>\n",
       "      <td>0.065618</td>\n",
       "      <td>-0.047331</td>\n",
       "      <td>-0.003909</td>\n",
       "      <td>-0.047417</td>\n",
       "      <td>-0.064895</td>\n",
       "    </tr>\n",
       "    <tr>\n",
       "      <th>dropoff_latitude</th>\n",
       "      <td>-0.169025</td>\n",
       "      <td>0.059762</td>\n",
       "      <td>0.395898</td>\n",
       "      <td>0.167123</td>\n",
       "      <td>1.000000</td>\n",
       "      <td>-0.004826</td>\n",
       "      <td>-0.128190</td>\n",
       "      <td>-0.040694</td>\n",
       "      <td>0.018792</td>\n",
       "      <td>0.001796</td>\n",
       "      <td>0.018832</td>\n",
       "      <td>0.020958</td>\n",
       "    </tr>\n",
       "    <tr>\n",
       "      <th>passenger_count</th>\n",
       "      <td>0.015024</td>\n",
       "      <td>0.001040</td>\n",
       "      <td>-0.008912</td>\n",
       "      <td>-0.000980</td>\n",
       "      <td>-0.004826</td>\n",
       "      <td>1.000000</td>\n",
       "      <td>0.009396</td>\n",
       "      <td>0.002130</td>\n",
       "      <td>0.016664</td>\n",
       "      <td>-0.000863</td>\n",
       "      <td>0.016635</td>\n",
       "      <td>0.007914</td>\n",
       "    </tr>\n",
       "    <tr>\n",
       "      <th>distance_miles</th>\n",
       "      <td>0.859417</td>\n",
       "      <td>0.483353</td>\n",
       "      <td>-0.173940</td>\n",
       "      <td>0.384622</td>\n",
       "      <td>-0.128190</td>\n",
       "      <td>0.009396</td>\n",
       "      <td>1.000000</td>\n",
       "      <td>0.200800</td>\n",
       "      <td>-0.029224</td>\n",
       "      <td>-0.006735</td>\n",
       "      <td>-0.029392</td>\n",
       "      <td>-0.056109</td>\n",
       "    </tr>\n",
       "    <tr>\n",
       "      <th>airport_fare</th>\n",
       "      <td>0.181582</td>\n",
       "      <td>0.299545</td>\n",
       "      <td>-0.203861</td>\n",
       "      <td>0.065618</td>\n",
       "      <td>-0.040694</td>\n",
       "      <td>0.002130</td>\n",
       "      <td>0.200800</td>\n",
       "      <td>1.000000</td>\n",
       "      <td>0.000898</td>\n",
       "      <td>-0.000253</td>\n",
       "      <td>0.000891</td>\n",
       "      <td>-0.004040</td>\n",
       "    </tr>\n",
       "    <tr>\n",
       "      <th>pickup_hh</th>\n",
       "      <td>-0.017555</td>\n",
       "      <td>0.019702</td>\n",
       "      <td>0.026255</td>\n",
       "      <td>-0.047331</td>\n",
       "      <td>0.018792</td>\n",
       "      <td>0.016664</td>\n",
       "      <td>-0.029224</td>\n",
       "      <td>0.000898</td>\n",
       "      <td>1.000000</td>\n",
       "      <td>0.001132</td>\n",
       "      <td>0.999646</td>\n",
       "      <td>0.725921</td>\n",
       "    </tr>\n",
       "    <tr>\n",
       "      <th>pickup_mm</th>\n",
       "      <td>-0.007717</td>\n",
       "      <td>-0.001698</td>\n",
       "      <td>-0.000098</td>\n",
       "      <td>-0.003909</td>\n",
       "      <td>0.001796</td>\n",
       "      <td>-0.000863</td>\n",
       "      <td>-0.006735</td>\n",
       "      <td>-0.000253</td>\n",
       "      <td>0.001132</td>\n",
       "      <td>1.000000</td>\n",
       "      <td>0.027720</td>\n",
       "      <td>0.002852</td>\n",
       "    </tr>\n",
       "    <tr>\n",
       "      <th>pickup_hhmm</th>\n",
       "      <td>-0.017754</td>\n",
       "      <td>0.019650</td>\n",
       "      <td>0.026243</td>\n",
       "      <td>-0.047417</td>\n",
       "      <td>0.018832</td>\n",
       "      <td>0.016635</td>\n",
       "      <td>-0.029392</td>\n",
       "      <td>0.000891</td>\n",
       "      <td>0.999646</td>\n",
       "      <td>0.027720</td>\n",
       "      <td>1.000000</td>\n",
       "      <td>0.725718</td>\n",
       "    </tr>\n",
       "    <tr>\n",
       "      <th>peak</th>\n",
       "      <td>-0.037269</td>\n",
       "      <td>0.006057</td>\n",
       "      <td>0.039755</td>\n",
       "      <td>-0.064895</td>\n",
       "      <td>0.020958</td>\n",
       "      <td>0.007914</td>\n",
       "      <td>-0.056109</td>\n",
       "      <td>-0.004040</td>\n",
       "      <td>0.725921</td>\n",
       "      <td>0.002852</td>\n",
       "      <td>0.725718</td>\n",
       "      <td>1.000000</td>\n",
       "    </tr>\n",
       "  </tbody>\n",
       "</table>\n",
       "</div>"
      ],
      "text/plain": [
       "                   fare_amount  pickup_longitude  pickup_latitude  \\\n",
       "fare_amount           1.000000          0.428928        -0.212468   \n",
       "pickup_longitude      0.428928          1.000000         0.027260   \n",
       "pickup_latitude      -0.212468          0.027260         1.000000   \n",
       "dropoff_longitude     0.324062          0.272095         0.066146   \n",
       "dropoff_latitude     -0.169025          0.059762         0.395898   \n",
       "passenger_count       0.015024          0.001040        -0.008912   \n",
       "distance_miles        0.859417          0.483353        -0.173940   \n",
       "airport_fare          0.181582          0.299545        -0.203861   \n",
       "pickup_hh            -0.017555          0.019702         0.026255   \n",
       "pickup_mm            -0.007717         -0.001698        -0.000098   \n",
       "pickup_hhmm          -0.017754          0.019650         0.026243   \n",
       "peak                 -0.037269          0.006057         0.039755   \n",
       "\n",
       "                   dropoff_longitude  dropoff_latitude  passenger_count  \\\n",
       "fare_amount                 0.324062         -0.169025         0.015024   \n",
       "pickup_longitude            0.272095          0.059762         0.001040   \n",
       "pickup_latitude             0.066146          0.395898        -0.008912   \n",
       "dropoff_longitude           1.000000          0.167123        -0.000980   \n",
       "dropoff_latitude            0.167123          1.000000        -0.004826   \n",
       "passenger_count            -0.000980         -0.004826         1.000000   \n",
       "distance_miles              0.384622         -0.128190         0.009396   \n",
       "airport_fare                0.065618         -0.040694         0.002130   \n",
       "pickup_hh                  -0.047331          0.018792         0.016664   \n",
       "pickup_mm                  -0.003909          0.001796        -0.000863   \n",
       "pickup_hhmm                -0.047417          0.018832         0.016635   \n",
       "peak                       -0.064895          0.020958         0.007914   \n",
       "\n",
       "                   distance_miles  airport_fare  pickup_hh  pickup_mm  \\\n",
       "fare_amount              0.859417      0.181582  -0.017555  -0.007717   \n",
       "pickup_longitude         0.483353      0.299545   0.019702  -0.001698   \n",
       "pickup_latitude         -0.173940     -0.203861   0.026255  -0.000098   \n",
       "dropoff_longitude        0.384622      0.065618  -0.047331  -0.003909   \n",
       "dropoff_latitude        -0.128190     -0.040694   0.018792   0.001796   \n",
       "passenger_count          0.009396      0.002130   0.016664  -0.000863   \n",
       "distance_miles           1.000000      0.200800  -0.029224  -0.006735   \n",
       "airport_fare             0.200800      1.000000   0.000898  -0.000253   \n",
       "pickup_hh               -0.029224      0.000898   1.000000   0.001132   \n",
       "pickup_mm               -0.006735     -0.000253   0.001132   1.000000   \n",
       "pickup_hhmm             -0.029392      0.000891   0.999646   0.027720   \n",
       "peak                    -0.056109     -0.004040   0.725921   0.002852   \n",
       "\n",
       "                   pickup_hhmm      peak  \n",
       "fare_amount          -0.017754 -0.037269  \n",
       "pickup_longitude      0.019650  0.006057  \n",
       "pickup_latitude       0.026243  0.039755  \n",
       "dropoff_longitude    -0.047417 -0.064895  \n",
       "dropoff_latitude      0.018832  0.020958  \n",
       "passenger_count       0.016635  0.007914  \n",
       "distance_miles       -0.029392 -0.056109  \n",
       "airport_fare          0.000891 -0.004040  \n",
       "pickup_hh             0.999646  0.725921  \n",
       "pickup_mm             0.027720  0.002852  \n",
       "pickup_hhmm           1.000000  0.725718  \n",
       "peak                  0.725718  1.000000  "
      ]
     },
     "execution_count": 26,
     "metadata": {},
     "output_type": "execute_result"
    }
   ],
   "source": [
    "df.corr()"
   ]
  },
  {
   "cell_type": "markdown",
   "metadata": {},
   "source": [
    "#### Conclusion\n",
    "\n",
    "There is a strong notable correlation between the following with respect to fare_amount (in descending order):\n",
    "\n",
    "* distance_miles\n",
    "* pickup_longitude \n",
    "* dropoff_longitude \n",
    "* pickup_latitute\n",
    "* airport_fare \n",
    "* dropoff_latitude "
   ]
  },
  {
   "cell_type": "markdown",
   "metadata": {},
   "source": [
    "# Step 4.2: Plotting correlations"
   ]
  },
  {
   "cell_type": "markdown",
   "metadata": {},
   "source": [
    "## Step 4.2.1 : Distance vs Fare"
   ]
  },
  {
   "cell_type": "code",
   "execution_count": 27,
   "metadata": {},
   "outputs": [
    {
     "data": {
      "text/plain": [
       "<matplotlib.axes._subplots.AxesSubplot at 0x113840ac8>"
      ]
     },
     "execution_count": 27,
     "metadata": {},
     "output_type": "execute_result"
    },
    {
     "data": {
      "image/png": "[encoded data removed]",
      "text/plain": [
       "<Figure size 432x288 with 1 Axes>"
      ]
     },
     "metadata": {},
     "output_type": "display_data"
    }
   ],
   "source": [
    "df.plot.scatter(x='distance_miles',y='fare_amount')"
   ]
  },
  {
   "cell_type": "markdown",
   "metadata": {},
   "source": [
    "#### Conclusion\n",
    "\n",
    "We see that as distance increases, fare increases - an expected relationship given the nature of taxi fares. We however see two interesting observations outside the linear fit:\n",
    "1. For above 35 miles of distance covered, the fare amount is around 50 USD. This perhaps explains the fixed fare from JFK airport to Manhattan.\n",
    "2. For distances under 10 miles, there are certain plot points above 100 USD which may seem absurd. However given the traffic of the city on a peak hour and a peak day, this might not be far fetched."
   ]
  },
  {
   "cell_type": "markdown",
   "metadata": {},
   "source": [
    "## Step 4.2.2 : Pickup Time vs Distance"
   ]
  },
  {
   "cell_type": "code",
   "execution_count": 28,
   "metadata": {},
   "outputs": [
    {
     "data": {
      "text/plain": [
       "<matplotlib.axes._subplots.AxesSubplot at 0x113e916d8>"
      ]
     },
     "execution_count": 28,
     "metadata": {},
     "output_type": "execute_result"
    },
    {
     "data": {
      "image/png": "[encoded data removed]",
      "text/plain": [
       "<Figure size 432x288 with 1 Axes>"
      ]
     },
     "metadata": {},
     "output_type": "display_data"
    }
   ],
   "source": [
    "df.plot.scatter(x='pickup_hh',y='distance_miles')"
   ]
  },
  {
   "cell_type": "markdown",
   "metadata": {},
   "source": [
    "#### Conclusion\n",
    "The graph doesn't tell us much, since there seems to be a uniform distribution of data for all hours of the day and the miles covered. However, the following comments can be made:\n",
    "1. Since there's less data for extremely off-peak hours like 5 am, the data points are more isolated. \n",
    "2. Usually around the off-peak hours, there is less long distance travel. This can be seem with the obvious gaps in the graph at 3-6 am on X axis and 40-50 miles on the Y axis.\n",
    "3. Being one of the busiest airports in the world, distances of around 35 miles (JFK to Manhattan) seem to be present at all hours.\n"
   ]
  },
  {
   "cell_type": "markdown",
   "metadata": {},
   "source": [
    "## Step 4.2.3 : Pickup Time vs Fare"
   ]
  },
  {
   "cell_type": "code",
   "execution_count": 29,
   "metadata": {},
   "outputs": [
    {
     "data": {
      "text/plain": [
       "<matplotlib.axes._subplots.AxesSubplot at 0x113ea2da0>"
      ]
     },
     "execution_count": 29,
     "metadata": {},
     "output_type": "execute_result"
    },
    {
     "data": {
      "image/png": "[encoded data removed]",
      "text/plain": [
       "<Figure size 432x288 with 1 Axes>"
      ]
     },
     "metadata": {},
     "output_type": "display_data"
    }
   ],
   "source": [
    "df.plot.scatter(x='pickup_hh',y='fare_amount')"
   ]
  },
  {
   "cell_type": "markdown",
   "metadata": {},
   "source": [
    "#### Conclusion\n",
    "\n",
    "1. The densely populated areas of the graph, almost seem uniform.\n",
    "2. However around 3-5 AM, there are no/few points for high fare amounts. This can be explained since there should practically be no traffic, thus resulting in lower fares.\n",
    "3. There are higher frequency of high fare amounts at nights, thus explaining the late night charge phenomenon."
   ]
  },
  {
   "cell_type": "markdown",
   "metadata": {},
   "source": [
    "## Step 4.2.3 : Pickup Time vs Number of Passengers"
   ]
  },
  {
   "cell_type": "code",
   "execution_count": 30,
   "metadata": {},
   "outputs": [
    {
     "data": {
      "text/plain": [
       "<matplotlib.axes._subplots.AxesSubplot at 0x54764f048>"
      ]
     },
     "execution_count": 30,
     "metadata": {},
     "output_type": "execute_result"
    },
    {
     "data": {
      "image/png": "[encoded data removed]",
      "text/plain": [
       "<Figure size 432x288 with 1 Axes>"
      ]
     },
     "metadata": {},
     "output_type": "display_data"
    }
   ],
   "source": [
    "df.plot.scatter(x='pickup_hh',y='passenger_count')"
   ]
  },
  {
   "cell_type": "markdown",
   "metadata": {},
   "source": [
    "#### Conclusion\n",
    "\n",
    "This graph tells us that there is enough data in the dataset because there is a dense point for every hour of the day and the number of passengers travelling. This confirms we don't have a biased dataset but rather a well-distributed one."
   ]
  },
  {
   "cell_type": "markdown",
   "metadata": {},
   "source": [
    "## Step 4.2.4 : Pickup Time - Histogram"
   ]
  },
  {
   "cell_type": "code",
   "execution_count": 32,
   "metadata": {},
   "outputs": [
    {
     "data": {
      "text/plain": [
       "Text(0.5,1,'Pickup Time Histogram')"
      ]
     },
     "execution_count": 32,
     "metadata": {},
     "output_type": "execute_result"
    },
    {
     "data": {
      "image/png": "[encoded data removed]",
      "text/plain": [
       "<Figure size 432x288 with 1 Axes>"
      ]
     },
     "metadata": {},
     "output_type": "display_data"
    }
   ],
   "source": [
    "df.pickup_hhmm.hist()\n",
    "plt.xlabel('Pickup Time')\n",
    "plt.title('Pickup Time Histogram')"
   ]
  },
  {
   "cell_type": "markdown",
   "metadata": {},
   "source": [
    "#### Conclusion\n",
    "\n",
    "This histogram allows us to predict busier times of the day. We are able to make the following comments:\n",
    "1. Fewer people take taxis from 2:30 AM to 6 AM\n",
    "2. A very high number of taxis are used from 7 PM till midnight. This allows us to identify these hours are super peak hours.\n",
    "3. A considerably large number of taxis are taken from 8 AM to 11 AM and around 2 PM to 4 PM. This allows us to identify our peak hours."
   ]
  },
  {
   "cell_type": "markdown",
   "metadata": {},
   "source": [
    "# Step 5.1 Baseline Prediction Model\n",
    "\n",
    "## Linear Regression"
   ]
  },
  {
   "cell_type": "code",
   "execution_count": 33,
   "metadata": {},
   "outputs": [
    {
     "name": "stdout",
     "output_type": "stream",
     "text": [
      "Intercept: \n",
      " 2172.100117993176\n",
      "Coefficients: \n",
      " [  0.17447503   3.33370428   8.85096023 -18.49860614   2.63679956\n",
      " -13.85206052  -1.39137148]\n"
     ]
    }
   ],
   "source": [
    "from sklearn import linear_model\n",
    "X = df[['peak','distance_miles','pickup_longitude','pickup_latitude', 'dropoff_longitude', 'dropoff_latitude','airport_fare']]\n",
    "Y = df['fare_amount']\n",
    "\n",
    "regr = linear_model.LinearRegression()\n",
    "regr.fit(X, Y)\n",
    "\n",
    "print('Intercept: \\n', regr.intercept_)\n",
    "print('Coefficients: \\n', regr.coef_)\n",
    "\n",
    "intercept = regr.intercept_\n",
    "coefficients = regr.coef_"
   ]
  },
  {
   "cell_type": "markdown",
   "metadata": {},
   "source": [
    "### Preparing test data for fitting model"
   ]
  },
  {
   "cell_type": "code",
   "execution_count": 34,
   "metadata": {},
   "outputs": [],
   "source": [
    "test_df['pickup_hh'] = test_df.key.str.slice(11,13)\n",
    "test_df['pickup_hh'] = test_df['pickup_hh'].astype(int)\n",
    "test_df['peak'] = 1\n",
    "test_df.loc[test_df['pickup_hh'].isin(peak_hours), 'peak'] = 2\n",
    "test_df.loc[test_df['pickup_hh'].isin(super_peak_hours), 'peak'] = 3\n",
    "\n",
    "#airport_fare column\n",
    "test_df['airport_fare'] = 0\n",
    "test_df.loc[(test_df['pickup_latitude']>=jfk_lat_upper) & (test_df['pickup_latitude']<=jfk_lat_lower) & (test_df['pickup_longitude']>=jfk_lon_lower) & (test_df['pickup_longitude']<=jfk_lon_upper), 'airport_fare'] = 1\n"
   ]
  },
  {
   "cell_type": "code",
   "execution_count": 35,
   "metadata": {},
   "outputs": [],
   "source": [
    "#day_of_week column\n",
    "test_df['pickup_datetime'] = pd.to_datetime(test_df['pickup_datetime'])\n",
    "test_df['day_of_week'] = test_df['pickup_datetime'].dt.dayofweek"
   ]
  },
  {
   "cell_type": "code",
   "execution_count": 36,
   "metadata": {},
   "outputs": [
    {
     "data": {
      "text/html": [
       "<div>\n",
       "<style scoped>\n",
       "    .dataframe tbody tr th:only-of-type {\n",
       "        vertical-align: middle;\n",
       "    }\n",
       "\n",
       "    .dataframe tbody tr th {\n",
       "        vertical-align: top;\n",
       "    }\n",
       "\n",
       "    .dataframe thead th {\n",
       "        text-align: right;\n",
       "    }\n",
       "</style>\n",
       "<table border=\"1\" class=\"dataframe\">\n",
       "  <thead>\n",
       "    <tr style=\"text-align: right;\">\n",
       "      <th></th>\n",
       "      <th>key</th>\n",
       "      <th>pickup_datetime</th>\n",
       "      <th>pickup_longitude</th>\n",
       "      <th>pickup_latitude</th>\n",
       "      <th>dropoff_longitude</th>\n",
       "      <th>dropoff_latitude</th>\n",
       "      <th>passenger_count</th>\n",
       "      <th>distance_miles</th>\n",
       "      <th>pickup_hh</th>\n",
       "      <th>peak</th>\n",
       "      <th>airport_fare</th>\n",
       "      <th>day_of_week</th>\n",
       "    </tr>\n",
       "  </thead>\n",
       "  <tbody>\n",
       "    <tr>\n",
       "      <th>0</th>\n",
       "      <td>2015-01-27 13:08:24.0000002</td>\n",
       "      <td>2015-01-27 13:08:24</td>\n",
       "      <td>-73.973320</td>\n",
       "      <td>40.763805</td>\n",
       "      <td>-73.981430</td>\n",
       "      <td>40.743835</td>\n",
       "      <td>1</td>\n",
       "      <td>1.443607</td>\n",
       "      <td>13</td>\n",
       "      <td>2</td>\n",
       "      <td>0</td>\n",
       "      <td>1</td>\n",
       "    </tr>\n",
       "    <tr>\n",
       "      <th>1</th>\n",
       "      <td>2015-01-27 13:08:24.0000003</td>\n",
       "      <td>2015-01-27 13:08:24</td>\n",
       "      <td>-73.986862</td>\n",
       "      <td>40.719383</td>\n",
       "      <td>-73.998886</td>\n",
       "      <td>40.739201</td>\n",
       "      <td>1</td>\n",
       "      <td>1.507044</td>\n",
       "      <td>13</td>\n",
       "      <td>2</td>\n",
       "      <td>0</td>\n",
       "      <td>1</td>\n",
       "    </tr>\n",
       "    <tr>\n",
       "      <th>2</th>\n",
       "      <td>2011-10-08 11:53:44.0000002</td>\n",
       "      <td>2011-10-08 11:53:44</td>\n",
       "      <td>-73.982524</td>\n",
       "      <td>40.751260</td>\n",
       "      <td>-73.979654</td>\n",
       "      <td>40.746139</td>\n",
       "      <td>1</td>\n",
       "      <td>0.384398</td>\n",
       "      <td>11</td>\n",
       "      <td>2</td>\n",
       "      <td>0</td>\n",
       "      <td>5</td>\n",
       "    </tr>\n",
       "    <tr>\n",
       "      <th>3</th>\n",
       "      <td>2012-12-01 21:12:12.0000002</td>\n",
       "      <td>2012-12-01 21:12:12</td>\n",
       "      <td>-73.981160</td>\n",
       "      <td>40.767807</td>\n",
       "      <td>-73.990448</td>\n",
       "      <td>40.751635</td>\n",
       "      <td>1</td>\n",
       "      <td>1.218529</td>\n",
       "      <td>21</td>\n",
       "      <td>3</td>\n",
       "      <td>0</td>\n",
       "      <td>5</td>\n",
       "    </tr>\n",
       "    <tr>\n",
       "      <th>4</th>\n",
       "      <td>2012-12-01 21:12:12.0000003</td>\n",
       "      <td>2012-12-01 21:12:12</td>\n",
       "      <td>-73.966046</td>\n",
       "      <td>40.789775</td>\n",
       "      <td>-73.988565</td>\n",
       "      <td>40.744427</td>\n",
       "      <td>1</td>\n",
       "      <td>3.347514</td>\n",
       "      <td>21</td>\n",
       "      <td>3</td>\n",
       "      <td>0</td>\n",
       "      <td>5</td>\n",
       "    </tr>\n",
       "  </tbody>\n",
       "</table>\n",
       "</div>"
      ],
      "text/plain": [
       "                           key     pickup_datetime  pickup_longitude  \\\n",
       "0  2015-01-27 13:08:24.0000002 2015-01-27 13:08:24        -73.973320   \n",
       "1  2015-01-27 13:08:24.0000003 2015-01-27 13:08:24        -73.986862   \n",
       "2  2011-10-08 11:53:44.0000002 2011-10-08 11:53:44        -73.982524   \n",
       "3  2012-12-01 21:12:12.0000002 2012-12-01 21:12:12        -73.981160   \n",
       "4  2012-12-01 21:12:12.0000003 2012-12-01 21:12:12        -73.966046   \n",
       "\n",
       "   pickup_latitude  dropoff_longitude  dropoff_latitude  passenger_count  \\\n",
       "0        40.763805         -73.981430         40.743835                1   \n",
       "1        40.719383         -73.998886         40.739201                1   \n",
       "2        40.751260         -73.979654         40.746139                1   \n",
       "3        40.767807         -73.990448         40.751635                1   \n",
       "4        40.789775         -73.988565         40.744427                1   \n",
       "\n",
       "   distance_miles  pickup_hh  peak  airport_fare  day_of_week  \n",
       "0        1.443607         13     2             0            1  \n",
       "1        1.507044         13     2             0            1  \n",
       "2        0.384398         11     2             0            5  \n",
       "3        1.218529         21     3             0            5  \n",
       "4        3.347514         21     3             0            5  "
      ]
     },
     "execution_count": 36,
     "metadata": {},
     "output_type": "execute_result"
    }
   ],
   "source": [
    "test_df.head()"
   ]
  },
  {
   "cell_type": "markdown",
   "metadata": {},
   "source": [
    "### Predicting.."
   ]
  },
  {
   "cell_type": "code",
   "execution_count": 37,
   "metadata": {},
   "outputs": [],
   "source": [
    "test_df['fare_amount'] = intercept + (coefficients[0]*test_df['peak']) + (coefficients[1]*test_df['distance_miles']) + (coefficients[2]*test_df['pickup_longitude']) + (coefficients[3]*test_df['pickup_latitude']) + (coefficients[4]*test_df['dropoff_longitude']) + (coefficients[5]*test_df['dropoff_latitude']) + (coefficients[6]*test_df['airport_fare'])\n"
   ]
  },
  {
   "cell_type": "code",
   "execution_count": 38,
   "metadata": {},
   "outputs": [
    {
     "data": {
      "text/html": [
       "<div>\n",
       "<style scoped>\n",
       "    .dataframe tbody tr th:only-of-type {\n",
       "        vertical-align: middle;\n",
       "    }\n",
       "\n",
       "    .dataframe tbody tr th {\n",
       "        vertical-align: top;\n",
       "    }\n",
       "\n",
       "    .dataframe thead th {\n",
       "        text-align: right;\n",
       "    }\n",
       "</style>\n",
       "<table border=\"1\" class=\"dataframe\">\n",
       "  <thead>\n",
       "    <tr style=\"text-align: right;\">\n",
       "      <th></th>\n",
       "      <th>key</th>\n",
       "      <th>pickup_datetime</th>\n",
       "      <th>pickup_longitude</th>\n",
       "      <th>pickup_latitude</th>\n",
       "      <th>dropoff_longitude</th>\n",
       "      <th>dropoff_latitude</th>\n",
       "      <th>passenger_count</th>\n",
       "      <th>distance_miles</th>\n",
       "      <th>pickup_hh</th>\n",
       "      <th>peak</th>\n",
       "      <th>airport_fare</th>\n",
       "      <th>day_of_week</th>\n",
       "      <th>fare_amount</th>\n",
       "    </tr>\n",
       "  </thead>\n",
       "  <tbody>\n",
       "    <tr>\n",
       "      <th>0</th>\n",
       "      <td>2015-01-27 13:08:24.0000002</td>\n",
       "      <td>2015-01-27 13:08:24</td>\n",
       "      <td>-73.973320</td>\n",
       "      <td>40.763805</td>\n",
       "      <td>-73.981430</td>\n",
       "      <td>40.743835</td>\n",
       "      <td>1</td>\n",
       "      <td>1.443607</td>\n",
       "      <td>13</td>\n",
       "      <td>2</td>\n",
       "      <td>0</td>\n",
       "      <td>1</td>\n",
       "      <td>8.992855</td>\n",
       "    </tr>\n",
       "    <tr>\n",
       "      <th>1</th>\n",
       "      <td>2015-01-27 13:08:24.0000003</td>\n",
       "      <td>2015-01-27 13:08:24</td>\n",
       "      <td>-73.986862</td>\n",
       "      <td>40.719383</td>\n",
       "      <td>-73.998886</td>\n",
       "      <td>40.739201</td>\n",
       "      <td>1</td>\n",
       "      <td>1.507044</td>\n",
       "      <td>13</td>\n",
       "      <td>2</td>\n",
       "      <td>0</td>\n",
       "      <td>1</td>\n",
       "      <td>9.924399</td>\n",
       "    </tr>\n",
       "    <tr>\n",
       "      <th>2</th>\n",
       "      <td>2011-10-08 11:53:44.0000002</td>\n",
       "      <td>2011-10-08 11:53:44</td>\n",
       "      <td>-73.982524</td>\n",
       "      <td>40.751260</td>\n",
       "      <td>-73.979654</td>\n",
       "      <td>40.746139</td>\n",
       "      <td>1</td>\n",
       "      <td>0.384398</td>\n",
       "      <td>11</td>\n",
       "      <td>2</td>\n",
       "      <td>0</td>\n",
       "      <td>5</td>\n",
       "      <td>5.585147</td>\n",
       "    </tr>\n",
       "    <tr>\n",
       "      <th>3</th>\n",
       "      <td>2012-12-01 21:12:12.0000002</td>\n",
       "      <td>2012-12-01 21:12:12</td>\n",
       "      <td>-73.981160</td>\n",
       "      <td>40.767807</td>\n",
       "      <td>-73.990448</td>\n",
       "      <td>40.751635</td>\n",
       "      <td>1</td>\n",
       "      <td>1.218529</td>\n",
       "      <td>21</td>\n",
       "      <td>3</td>\n",
       "      <td>0</td>\n",
       "      <td>5</td>\n",
       "      <td>8.141754</td>\n",
       "    </tr>\n",
       "    <tr>\n",
       "      <th>4</th>\n",
       "      <td>2012-12-01 21:12:12.0000003</td>\n",
       "      <td>2012-12-01 21:12:12</td>\n",
       "      <td>-73.966046</td>\n",
       "      <td>40.789775</td>\n",
       "      <td>-73.988565</td>\n",
       "      <td>40.744427</td>\n",
       "      <td>1</td>\n",
       "      <td>3.347514</td>\n",
       "      <td>21</td>\n",
       "      <td>3</td>\n",
       "      <td>0</td>\n",
       "      <td>5</td>\n",
       "      <td>15.071366</td>\n",
       "    </tr>\n",
       "    <tr>\n",
       "      <th>5</th>\n",
       "      <td>2012-12-01 21:12:12.0000005</td>\n",
       "      <td>2012-12-01 21:12:12</td>\n",
       "      <td>-73.960983</td>\n",
       "      <td>40.765547</td>\n",
       "      <td>-73.979177</td>\n",
       "      <td>40.740053</td>\n",
       "      <td>1</td>\n",
       "      <td>2.002399</td>\n",
       "      <td>21</td>\n",
       "      <td>3</td>\n",
       "      <td>0</td>\n",
       "      <td>5</td>\n",
       "      <td>11.165491</td>\n",
       "    </tr>\n",
       "    <tr>\n",
       "      <th>6</th>\n",
       "      <td>2011-10-06 12:10:20.0000001</td>\n",
       "      <td>2011-10-06 12:10:20</td>\n",
       "      <td>-73.949013</td>\n",
       "      <td>40.773204</td>\n",
       "      <td>-73.959622</td>\n",
       "      <td>40.770893</td>\n",
       "      <td>1</td>\n",
       "      <td>0.577627</td>\n",
       "      <td>12</td>\n",
       "      <td>2</td>\n",
       "      <td>0</td>\n",
       "      <td>3</td>\n",
       "      <td>5.829916</td>\n",
       "    </tr>\n",
       "    <tr>\n",
       "      <th>7</th>\n",
       "      <td>2011-10-06 12:10:20.0000003</td>\n",
       "      <td>2011-10-06 12:10:20</td>\n",
       "      <td>-73.777282</td>\n",
       "      <td>40.646636</td>\n",
       "      <td>-73.985083</td>\n",
       "      <td>40.759368</td>\n",
       "      <td>1</td>\n",
       "      <td>13.384399</td>\n",
       "      <td>12</td>\n",
       "      <td>2</td>\n",
       "      <td>1</td>\n",
       "      <td>3</td>\n",
       "      <td>51.086359</td>\n",
       "    </tr>\n",
       "    <tr>\n",
       "      <th>8</th>\n",
       "      <td>2011-10-06 12:10:20.0000002</td>\n",
       "      <td>2011-10-06 12:10:20</td>\n",
       "      <td>-74.014099</td>\n",
       "      <td>40.709638</td>\n",
       "      <td>-73.995106</td>\n",
       "      <td>40.741365</td>\n",
       "      <td>1</td>\n",
       "      <td>2.407168</td>\n",
       "      <td>12</td>\n",
       "      <td>2</td>\n",
       "      <td>0</td>\n",
       "      <td>3</td>\n",
       "      <td>12.844332</td>\n",
       "    </tr>\n",
       "    <tr>\n",
       "      <th>9</th>\n",
       "      <td>2014-02-18 15:22:20.0000002</td>\n",
       "      <td>2014-02-18 15:22:20</td>\n",
       "      <td>-73.969582</td>\n",
       "      <td>40.765519</td>\n",
       "      <td>-73.980686</td>\n",
       "      <td>40.770725</td>\n",
       "      <td>1</td>\n",
       "      <td>0.683380</td>\n",
       "      <td>15</td>\n",
       "      <td>2</td>\n",
       "      <td>0</td>\n",
       "      <td>1</td>\n",
       "      <td>6.089357</td>\n",
       "    </tr>\n",
       "  </tbody>\n",
       "</table>\n",
       "</div>"
      ],
      "text/plain": [
       "                           key     pickup_datetime  pickup_longitude  \\\n",
       "0  2015-01-27 13:08:24.0000002 2015-01-27 13:08:24        -73.973320   \n",
       "1  2015-01-27 13:08:24.0000003 2015-01-27 13:08:24        -73.986862   \n",
       "2  2011-10-08 11:53:44.0000002 2011-10-08 11:53:44        -73.982524   \n",
       "3  2012-12-01 21:12:12.0000002 2012-12-01 21:12:12        -73.981160   \n",
       "4  2012-12-01 21:12:12.0000003 2012-12-01 21:12:12        -73.966046   \n",
       "5  2012-12-01 21:12:12.0000005 2012-12-01 21:12:12        -73.960983   \n",
       "6  2011-10-06 12:10:20.0000001 2011-10-06 12:10:20        -73.949013   \n",
       "7  2011-10-06 12:10:20.0000003 2011-10-06 12:10:20        -73.777282   \n",
       "8  2011-10-06 12:10:20.0000002 2011-10-06 12:10:20        -74.014099   \n",
       "9  2014-02-18 15:22:20.0000002 2014-02-18 15:22:20        -73.969582   \n",
       "\n",
       "   pickup_latitude  dropoff_longitude  dropoff_latitude  passenger_count  \\\n",
       "0        40.763805         -73.981430         40.743835                1   \n",
       "1        40.719383         -73.998886         40.739201                1   \n",
       "2        40.751260         -73.979654         40.746139                1   \n",
       "3        40.767807         -73.990448         40.751635                1   \n",
       "4        40.789775         -73.988565         40.744427                1   \n",
       "5        40.765547         -73.979177         40.740053                1   \n",
       "6        40.773204         -73.959622         40.770893                1   \n",
       "7        40.646636         -73.985083         40.759368                1   \n",
       "8        40.709638         -73.995106         40.741365                1   \n",
       "9        40.765519         -73.980686         40.770725                1   \n",
       "\n",
       "   distance_miles  pickup_hh  peak  airport_fare  day_of_week  fare_amount  \n",
       "0        1.443607         13     2             0            1     8.992855  \n",
       "1        1.507044         13     2             0            1     9.924399  \n",
       "2        0.384398         11     2             0            5     5.585147  \n",
       "3        1.218529         21     3             0            5     8.141754  \n",
       "4        3.347514         21     3             0            5    15.071366  \n",
       "5        2.002399         21     3             0            5    11.165491  \n",
       "6        0.577627         12     2             0            3     5.829916  \n",
       "7       13.384399         12     2             1            3    51.086359  \n",
       "8        2.407168         12     2             0            3    12.844332  \n",
       "9        0.683380         15     2             0            1     6.089357  "
      ]
     },
     "execution_count": 38,
     "metadata": {},
     "output_type": "execute_result"
    }
   ],
   "source": [
    "test_df.head(10)"
   ]
  },
  {
   "cell_type": "code",
   "execution_count": 39,
   "metadata": {},
   "outputs": [],
   "source": [
    "submit_df = test_df[['key','fare_amount']]"
   ]
  },
  {
   "cell_type": "code",
   "execution_count": 40,
   "metadata": {},
   "outputs": [],
   "source": [
    "submit_df.to_csv('output_linear.csv', encoding='utf-8', index=False)"
   ]
  },
  {
   "cell_type": "markdown",
   "metadata": {},
   "source": [
    "# Step 5.2 Other Models\n",
    "\n",
    "## Random Forest"
   ]
  },
  {
   "cell_type": "code",
   "execution_count": 41,
   "metadata": {},
   "outputs": [
    {
     "data": {
      "text/plain": [
       "RandomForestRegressor(bootstrap=True, criterion='mse', max_depth=20,\n",
       "           max_features='auto', max_leaf_nodes=None,\n",
       "           min_impurity_decrease=0.0, min_impurity_split=None,\n",
       "           min_samples_leaf=1, min_samples_split=2,\n",
       "           min_weight_fraction_leaf=0.0, n_estimators=5, n_jobs=1,\n",
       "           oob_score=False, random_state=2, verbose=0, warm_start=False)"
      ]
     },
     "execution_count": 41,
     "metadata": {},
     "output_type": "execute_result"
    }
   ],
   "source": [
    "from sklearn.ensemble import RandomForestRegressor as rf\n",
    "\n",
    "random_forest = rf(n_estimators = 5, random_state = 2, max_depth = 20)\n",
    "random_forest.fit(df[['peak','distance_miles','pickup_longitude','pickup_latitude', 'dropoff_longitude', 'dropoff_latitude','airport_fare']],df['fare_amount'])"
   ]
  },
  {
   "cell_type": "code",
   "execution_count": 42,
   "metadata": {},
   "outputs": [],
   "source": [
    "test_df['fare_amount_rf'] = random_forest.predict(test_df[['peak','distance_miles','pickup_longitude','pickup_latitude', 'dropoff_longitude', 'dropoff_latitude','airport_fare']])\n",
    "submit_df_rf = test_df[['key','fare_amount']]\n",
    "submit_df_rf.to_csv('output_rf.csv', encoding='utf-8', index=False)"
   ]
  }
 ],
 "metadata": {
  "kernelspec": {
   "display_name": "Python 3",
   "language": "python",
   "name": "python3"
  },
  "language_info": {
   "codemirror_mode": {
    "name": "ipython",
    "version": 3
   },
   "file_extension": ".py",
   "mimetype": "text/x-python",
   "name": "python",
   "nbconvert_exporter": "python",
   "pygments_lexer": "ipython3",
   "version": "3.6.5"
  }
 },
 "nbformat": 4,
 "nbformat_minor": 2
}
